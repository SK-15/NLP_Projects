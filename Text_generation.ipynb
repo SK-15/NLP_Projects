{
  "nbformat": 4,
  "nbformat_minor": 0,
  "metadata": {
    "colab": {
      "name": "Text_generation.ipynb",
      "provenance": [],
      "authorship_tag": "ABX9TyM+SE93Meo0zqf7v1fVefMx",
      "include_colab_link": true
    },
    "kernelspec": {
      "name": "python3",
      "display_name": "Python 3"
    },
    "accelerator": "GPU"
  },
  "cells": [
    {
      "cell_type": "markdown",
      "metadata": {
        "id": "view-in-github",
        "colab_type": "text"
      },
      "source": [
        "<a href=\"https://colab.research.google.com/github/SK-15/NLP_Projects/blob/master/Text_generation.ipynb\" target=\"_parent\"><img src=\"https://colab.research.google.com/assets/colab-badge.svg\" alt=\"Open In Colab\"/></a>"
      ]
    },
    {
      "cell_type": "code",
      "metadata": {
        "id": "OghHB9cIq2C7"
      },
      "source": [
        "import tensorflow as tf\n",
        "import pandas as pd\n",
        "import numpy as np\n",
        "import string \n",
        "\n",
        "from tensorflow.keras.preprocessing.text import Tokenizer\n",
        "from tensorflow.keras.preprocessing.sequence import pad_sequences"
      ],
      "execution_count": 1,
      "outputs": []
    },
    {
      "cell_type": "code",
      "metadata": {
        "id": "FGq03-1fr7wA",
        "outputId": "68b6cd63-0784-4aa9-e3c6-7417ccb45e57",
        "colab": {
          "base_uri": "https://localhost:8080/",
          "height": 326
        }
      },
      "source": [
        "!wget --no-check-certificate \\\n",
        "    https://drive.google.com/uc?id=1LiJFZd41ofrWoBtW-pMYsfz1w8Ny0Bj8 \\\n",
        "    -O /tmp/songdata.csv"
      ],
      "execution_count": 2,
      "outputs": [
        {
          "output_type": "stream",
          "text": [
            "--2020-10-09 14:05:47--  https://drive.google.com/uc?id=1LiJFZd41ofrWoBtW-pMYsfz1w8Ny0Bj8\n",
            "Resolving drive.google.com (drive.google.com)... 108.177.125.101, 108.177.125.138, 108.177.125.100, ...\n",
            "Connecting to drive.google.com (drive.google.com)|108.177.125.101|:443... connected.\n",
            "HTTP request sent, awaiting response... 302 Moved Temporarily\n",
            "Location: https://doc-04-ak-docs.googleusercontent.com/docs/securesc/ha0ro937gcuc7l7deffksulhg5h7mbp1/0osghqbh8i16t1btmip3lh7vvq4d5u7k/1602252300000/11118900490791463723/*/1LiJFZd41ofrWoBtW-pMYsfz1w8Ny0Bj8 [following]\n",
            "Warning: wildcards not supported in HTTP.\n",
            "--2020-10-09 14:05:51--  https://doc-04-ak-docs.googleusercontent.com/docs/securesc/ha0ro937gcuc7l7deffksulhg5h7mbp1/0osghqbh8i16t1btmip3lh7vvq4d5u7k/1602252300000/11118900490791463723/*/1LiJFZd41ofrWoBtW-pMYsfz1w8Ny0Bj8\n",
            "Resolving doc-04-ak-docs.googleusercontent.com (doc-04-ak-docs.googleusercontent.com)... 64.233.189.132, 2404:6800:4008:c07::84\n",
            "Connecting to doc-04-ak-docs.googleusercontent.com (doc-04-ak-docs.googleusercontent.com)|64.233.189.132|:443... connected.\n",
            "HTTP request sent, awaiting response... 200 OK\n",
            "Length: unspecified [text/csv]\n",
            "Saving to: ‘/tmp/songdata.csv’\n",
            "\n",
            "/tmp/songdata.csv       [     <=>            ]  69.08M  69.1MB/s    in 1.0s    \n",
            "\n",
            "2020-10-09 14:05:53 (69.1 MB/s) - ‘/tmp/songdata.csv’ saved [72436445]\n",
            "\n"
          ],
          "name": "stdout"
        }
      ]
    },
    {
      "cell_type": "code",
      "metadata": {
        "id": "W12rXhMozCz_"
      },
      "source": [
        "def tokenize_corpus(corpus, num_words=-1):\n",
        "  # Fit a Tokenizer on the corpus\n",
        "  if num_words > -1:\n",
        "    tokenizer = Tokenizer(num_words=num_words)\n",
        "  else:\n",
        "    tokenizer = Tokenizer()\n",
        "  tokenizer.fit_on_texts(corpus)\n",
        "  return tokenizer\n",
        "\n",
        "def create_lyrics_corpus(dataset, field):\n",
        "  # Remove all other punctuation\n",
        "  dataset[field] = dataset[field].str.replace('[{}]'.format(string.punctuation), '')\n",
        "  # Make it lowercase\n",
        "  dataset[field] = dataset[field].str.lower()\n",
        "  # Make it one long string to split by line\n",
        "  lyrics = dataset[field].str.cat()\n",
        "  corpus = lyrics.split('\\n')\n",
        "  # Remove any trailing whitespace\n",
        "  for l in range(len(corpus)):\n",
        "    corpus[l] = corpus[l].rstrip()\n",
        "  # Remove any empty lines\n",
        "  corpus = [l for l in corpus if l != '']\n",
        "\n",
        "  return corpus"
      ],
      "execution_count": 3,
      "outputs": []
    },
    {
      "cell_type": "code",
      "metadata": {
        "id": "yniD3UujIk9U",
        "outputId": "f31be4d2-967e-46c1-a088-d4bbadcc1cae",
        "colab": {
          "base_uri": "https://localhost:8080/",
          "height": 71
        }
      },
      "source": [
        "# Read the dataset from csv - just first 10 songs for now\n",
        "dataset = pd.read_csv('/tmp/songdata.csv', dtype=str)[:250]\n",
        "# Create the corpus using the 'text' column containing lyrics\n",
        "corpus = create_lyrics_corpus(dataset, 'text')\n",
        "# Tokenize the corpus\n",
        "tokenizer = tokenize_corpus(corpus)\n",
        "\n",
        "total_words = len(tokenizer.word_index) + 1\n",
        "\n",
        "print(tokenizer.word_index)\n",
        "print(total_words)"
      ],
      "execution_count": 4,
      "outputs": [
        {
          "output_type": "stream",
          "text": [
            "{'the': 1, 'i': 2, 'you': 3, 'a': 4, 'and': 5, 'to': 6, 'me': 7, 'it': 8, 'in': 9, 'my': 10, 'of': 11, 'that': 12, 'your': 13, 'im': 14, 'for': 15, 'all': 16, 'on': 17, 'so': 18, 'love': 19, 'is': 20, 'be': 21, 'we': 22, 'youre': 23, 'when': 24, 'but': 25, 'like': 26, 'just': 27, 'dont': 28, 'its': 29, 'no': 30, 'know': 31, 'with': 32, 'now': 33, 'do': 34, 'la': 35, 'what': 36, 'got': 37, 'can': 38, 'have': 39, 'was': 40, 'take': 41, 'one': 42, 'down': 43, 'if': 44, 'get': 45, 'yeah': 46, 'never': 47, 'time': 48, 'she': 49, 'see': 50, 'up': 51, 'go': 52, 'out': 53, 'baby': 54, 'were': 55, 'more': 56, 'gonna': 57, 'oh': 58, 'this': 59, 'they': 60, 'want': 61, 'night': 62, 'he': 63, 'gotta': 64, 'make': 65, 'at': 66, 'from': 67, 'are': 68, 'let': 69, 'cant': 70, 'way': 71, 'will': 72, 'theres': 73, 'feel': 74, 'well': 75, 'think': 76, 'cause': 77, 'away': 78, 'as': 79, 'could': 80, 'girl': 81, 'aint': 82, 'day': 83, 'how': 84, 'tell': 85, 'her': 86, 'little': 87, 'life': 88, 'said': 89, 'our': 90, 'say': 91, 'here': 92, 'there': 93, 'where': 94, 'honey': 95, 'too': 96, 'ill': 97, 'ive': 98, 'always': 99, 'then': 100, 'not': 101, 'who': 102, 'man': 103, 'come': 104, 'believe': 105, 'good': 106, 'through': 107, 'am': 108, 'give': 109, 'only': 110, 'look': 111, 'had': 112, 'need': 113, 'thats': 114, 'by': 115, 'wont': 116, 'really': 117, 'back': 118, 'world': 119, 'old': 120, 'please': 121, 'about': 122, 'been': 123, 'right': 124, 'sweet': 125, 'still': 126, 'live': 127, 'every': 128, 'shes': 129, 'us': 130, 'dance': 131, 'eyes': 132, 'better': 133, 'would': 134, 'stop': 135, 'find': 136, 'yes': 137, 'his': 138, 'hey': 139, 'why': 140, 'some': 141, 'mind': 142, 'or': 143, 'new': 144, 'around': 145, 'light': 146, 'long': 147, 'an': 148, 'everything': 149, 'side': 150, 'chorus': 151, 'last': 152, 'head': 153, 'ever': 154, 'people': 155, 'chance': 156, 'ya': 157, 'feeling': 158, 'shame': 159, 'hard': 160, 'hear': 161, 'did': 162, 'over': 163, 'nothing': 164, 'other': 165, 'youll': 166, 'must': 167, 'walk': 168, 'sing': 169, 'things': 170, 'before': 171, 'easy': 172, 'into': 173, 'gimme': 174, 'something': 175, 'two': 176, 'again': 177, 'stay': 178, 'him': 179, 'done': 180, 'blue': 181, 'tonight': 182, 'youve': 183, 'sun': 184, 'hes': 185, 'bad': 186, 'same': 187, 'has': 188, 'doctor': 189, 'friend': 190, 'youd': 191, 'hold': 192, 'true': 193, 'thing': 194, 'heart': 195, 'try': 196, 'city': 197, 'gone': 198, 'fire': 199, 'even': 200, 'while': 201, 'didnt': 202, 'sure': 203, 'made': 204, 'miss': 205, 'face': 206, 'song': 207, 'play': 208, 'show': 209, 'happy': 210, 'their': 211, 'after': 212, 'hand': 213, 'much': 214, 'leave': 215, 'dream': 216, 'call': 217, 'kind': 218, 'together': 219, 'nights': 220, 'lay': 221, 'ahha': 222, 'run': 223, 'without': 224, 'them': 225, 'doing': 226, 'waiting': 227, 'days': 228, 'somebody': 229, 'remember': 230, 'place': 231, 'does': 232, 'wasnt': 233, 'cow': 234, 'another': 235, 'alone': 236, 'round': 237, 'home': 238, 'goin': 239, 'care': 240, 'sometimes': 241, 'roll': 242, 'money': 243, 'wanna': 244, 'best': 245, 'mother': 246, 'off': 247, 'told': 248, 'bit': 249, 'friends': 250, 'going': 251, 'someone': 252, 'talk': 253, 'myself': 254, 'help': 255, 'watch': 256, 'music': 257, 'darling': 258, 'sorry': 259, 'lights': 260, 'left': 261, 'lose': 262, 'upon': 263, 'outta': 264, 'ma': 265, 'kiss': 266, 'door': 267, 'free': 268, 'whats': 269, 'cry': 270, 'crazy': 271, 'turn': 272, 'goes': 273, 'high': 274, 'pretty': 275, 'fernando': 276, 'keep': 277, 'soul': 278, 'enough': 279, 'morning': 280, 'dancing': 281, 'far': 282, 'smile': 283, 'knew': 284, 'somewhere': 285, 'wish': 286, 'first': 287, 'wonder': 288, 'times': 289, 'nobody': 290, 'wrong': 291, 'inside': 292, 'lala': 293, 'name': 294, 'lovin': 295, 'summer': 296, 'thought': 297, 'mean': 298, 'under': 299, 'seems': 300, 'road': 301, 'shit': 302, 'came': 303, 'couldnt': 304, 'id': 305, 'hot': 306, 'hell': 307, 'rockn': 308, 'ring': 309, 'sword': 310, 'used': 311, 'pain': 312, 'real': 313, 'each': 314, 'comes': 315, 'those': 316, 'these': 317, 'lovers': 318, 'wants': 319, 'rich': 320, 'put': 321, 'theyre': 322, 'listen': 323, 'dreams': 324, 'move': 325, 'fun': 326, 'living': 327, 'woman': 328, 'forever': 329, 'moon': 330, 'ready': 331, 'making': 332, 'once': 333, 'knowing': 334, 'late': 335, 'hope': 336, 'fly': 337, 'everybody': 338, 'livin': 339, 'supernatural': 340, 'touch': 341, 'body': 342, 'break': 343, 'hearts': 344, 'own': 345, 'shining': 346, 'forget': 347, 'lets': 348, 'knows': 349, 'weve': 350, 'looking': 351, 'rock': 352, 'doesnt': 353, 'maybe': 354, 'should': 355, 'shine': 356, 'room': 357, 'than': 358, 'eat': 359, 'big': 360, 'jeanie': 361, 'mercy': 362, 'deep': 363, 'behind': 364, 'reason': 365, 'lot': 366, 'lord': 367, 'funny': 368, 'open': 369, 'taste': 370, 'middle': 371, 'gave': 372, 'mama': 373, 'till': 374, 'farm': 375, 'makes': 376, 'sound': 377, 'boy': 378, 'near': 379, 'saw': 380, 'until': 381, 'sky': 382, 'went': 383, 'may': 384, 'scream': 385, 'dog': 386, 'fine': 387, 'walking': 388, 'such': 389, 'found': 390, 'start': 391, 'words': 392, 'queen': 393, 'isnt': 394, 'close': 395, 'year': 396, 'lonely': 397, 'any': 398, 'town': 399, 'voulezvous': 400, 'movin': 401, 'pink': 402, 'andante': 403, 'anymore': 404, 'boomaboomerang': 405, 'sad': 406, 'thinking': 407, 'lies': 408, 'sitting': 409, 'memories': 410, 'young': 411, 'coming': 412, 'many': 413, 'gets': 414, 'wind': 415, 'glove': 416, 'today': 417, 'tried': 418, 'train': 419, 'gun': 420, 'john': 421, 'mine': 422, 'god': 423, 'end': 424, 'yourself': 425, 'street': 426, 'wait': 427, 'tomorrow': 428, 'dark': 429, 'years': 430, 'tight': 431, 'loved': 432, 'line': 433, 'follow': 434, 'along': 435, 'game': 436, 'sunny': 437, 'change': 438, 'waterloo': 439, 'uh': 440, 'burning': 441, 'being': 442, 'sleep': 443, 'cool': 444, 'meet': 445, 'die': 446, 'midnight': 447, 'ask': 448, 'might': 449, 'helen': 450, 'songs': 451, 'kissed': 452, 'fall': 453, 'belong': 454, 'marionette': 455, 'hit': 456, 'black': 457, 'hug': 458, 'pick': 459, 'farmer': 460, 'slow': 461, 'strong': 462, 'ground': 463, 'dumb': 464, 'leaving': 465, 'though': 466, 'bed': 467, 'wanted': 468, 'rain': 469, 'cold': 470, 'having': 471, 'matter': 472, 'ah': 473, 'sight': 474, 'ooh': 475, 'falling': 476, 'floor': 477, 'very': 478, 'heaven': 479, 'pull': 480, 'oooh': 481, 'surprise': 482, 'ass': 483, 'fucking': 484, 'kisses': 485, 'bang': 486, 'past': 487, 'fight': 488, 'took': 489, 'em': 490, 'seem': 491, 'understand': 492, 'since': 493, 'que': 494, 'window': 495, 'worth': 496, 'noise': 497, 'voices': 498, 'laugh': 499, 'longer': 500, 'boys': 501, 'alright': 502, 'fear': 503, 'story': 504, 'lovelight': 505, 'mans': 506, 'tells': 507, 'instead': 508, 'bale': 509, 'ba': 510, 'crackin': 511, 'teacher': 512, 'toys': 513, 'moo': 514, 'fever': 515, 'janies': 516, 'giving': 517, 'part': 518, 'men': 519, 'brother': 520, 'king': 521, 'shadows': 522, 'voice': 523, 'breaking': 524, 'feelings': 525, 'seen': 526, 'star': 527, 'laid': 528, 'lie': 529, 'passing': 530, 'bring': 531, 'guess': 532, 'throw': 533, 'fill': 534, 'cross': 535, 'cat': 536, 'answer': 537, 'rocking': 538, 'kept': 539, 'tiger': 540, 'knees': 541, 'rockin': 542, 'hoppin': 543, 'learn': 544, 'use': 545, 'lost': 546, 'feet': 547, 'wild': 548, 'speak': 549, 'minute': 550, 'full': 551, 'air': 552, 'soon': 553, 'send': 554, 'heard': 555, 'lady': 556, 'hello': 557, 'hole': 558, 'lover': 559, 'somethings': 560, 'suppper': 561, 'apart': 562, 'share': 563, 'wouldnt': 564, 'rest': 565, 'roller': 566, 'everyone': 567, 'because': 568, 'cecilia': 569, 'fast': 570, 'comin': 571, 'runner': 572, 'ooooo': 573, 'talking': 574, 'grow': 575, 'taking': 576, 'anywhere': 577, 'fool': 578, 'playing': 579, 'else': 580, 'sunrise': 581, 'hate': 582, 'goodbye': 583, 'trying': 584, 'crowd': 585, 'angel': 586, 'empty': 587, 'outside': 588, 'replaced': 589, 'price': 590, 'hurt': 591, 'lookin': 592, 'arms': 593, 'magic': 594, 'carry': 595, 'cries': 596, 'bound': 597, 'doll': 598, 'glad': 599, 'theyll': 600, 'buy': 601, 'hide': 602, 'trip': 603, 'shake': 604, 'heat': 605, 'lordy': 606, 'save': 607, 'hurts': 608, 'whole': 609, 'aha': 610, 'fingers': 611, 'standing': 612, 'tired': 613, 'ways': 614, 'ride': 615, 'dead': 616, 'chiquitita': 617, 'loves': 618, 'blind': 619, 'blame': 620, 'met': 621, 'getting': 622, 'style': 623, 'movie': 624, 'frida': 625, 'needs': 626, 'afraid': 627, 'proud': 628, 'darkness': 629, 'half': 630, 'different': 631, 'til': 632, 'blues': 633, 'strange': 634, 'looked': 635, 'bother': 636, 'trooppper': 637, 'kinda': 638, 'bittersweet': 639, 'happiest': 640, 'sea': 641, 's': 642, 'suzyhangaround': 643, 'mm': 644, 'nothin': 645, 'verse': 646, 'believer': 647, 'gettin': 648, 'dum': 649, 'oasis': 650, 'st': 651, 'arollin': 652, 'special': 653, 'pride': 654, 'alive': 655, 'caught': 656, 'stood': 657, 'broken': 658, 'house': 659, 'nice': 660, 'yet': 661, 'scene': 662, 'low': 663, 'read': 664, 'child': 665, 'agnetha': 666, 'sounds': 667, 'known': 668, 'win': 669, 'givin': 670, 'lives': 671, 'happened': 672, 'children': 673, 'blow': 674, 'moment': 675, 'everybodys': 676, 'suddenly': 677, 'emotion': 678, 'luck': 679, 'ball': 680, 'red': 681, 'doubt': 682, 'hands': 683, 'sore': 684, 'sunshine': 685, 'owe': 686, 'talkin': 687, 'headyeah': 688, 'rag': 689, 'messin': 690, 'american': 691, 'thousand': 692, 'thank': 693, 'tune': 694, 'sick': 695, 'pity': 696, 'dawning': 697, 'car': 698, 'cryin': 699, 'anyone': 700, 'smiling': 701, 'wishing': 702, 'somehow': 703, 'diddle': 704, 'wed': 705, 'land': 706, 'helping': 707, 'bright': 708, 'chase': 709, 'loving': 710, 'heels': 711, 'tear': 712, 'walked': 713, 'write': 714, 'called': 715, 'n': 716, 'band': 717, 'bout': 718, 'rough': 719, 'girls': 720, 'devil': 721, 'tree': 722, 'underneath': 723, 'jump': 724, 'soldiers': 725, 'beneath': 726, 'loveland': 727, 'perfect': 728, 'christmas': 729, 'rise': 730, 'missing': 731, 'smokin': 732, 'bite': 733, 'shove': 734, 'push': 735, 'india': 736, 'yak': 737, 'leaves': 738, 'park': 739, 'growing': 740, 'meant': 741, 'beg': 742, 'cassandra': 743, 'future': 744, 'almost': 745, 'above': 746, 'guy': 747, 'anybody': 748, 'beat': 749, 'dreamworld': 750, 'trust': 751, 'work': 752, 'fiddle': 753, 'fair': 754, 'questions': 755, 'y': 756, 'finally': 757, 'spend': 758, 'noone': 759, 'phone': 760, 'second': 761, 'imagine': 762, 'keeps': 763, 'treat': 764, 'turned': 765, 'likes': 766, 'says': 767, 'stream': 768, 'both': 769, 'between': 770, 'ours': 771, 'shoes': 772, 'school': 773, 'ending': 774, 'single': 775, 'anything': 776, 'fantasy': 777, 'joy': 778, 'clown': 779, 'ends': 780, 'point': 781, 'learned': 782, 'twice': 783, 'drink': 784, 'merrygoround': 785, 'small': 786, 'takes': 787, 'rikky': 788, 'o': 789, 'slipping': 790, 'cried': 791, 'following': 792, 'crack': 793, 'desire': 794, 'headin': 795, 'cuz': 796, 'slippin': 797, 'grind': 798, 'roxy': 799, 'bloody': 800, 'temperature': 801, 'means': 802, 'evening': 803, 'breeze': 804, 'question': 805, 'return': 806, 'warm': 807, 'crying': 808, 'hour': 809, 'nothings': 810, 'chasing': 811, 'escape': 812, 'within': 813, 'theyve': 814, 'lo': 815, 'mmm': 816, 'blowing': 817, 'rainbow': 818, 'few': 819, 'whatever': 820, 'ahhah': 821, 'rather': 822, 'sigh': 823, 'dear': 824, 'returning': 825, 'insane': 826, 'super': 827, 'monkey': 828, 'babe': 829, 'wake': 830, 'precious': 831, 'picture': 832, 'cotton': 833, 'birds': 834, 'test': 835, 'yellow': 836, 'tropical': 837, 'across': 838, 'tidings': 839, 'lead': 840, 'held': 841, 'changes': 842, 'edge': 843, 'uncle': 844, 'prechorus': 845, 'tall': 846, 'heads': 847, 'nah': 848, 'leavin': 849, 'chuck': 850, 'beep': 851, 'hours': 852, 'felt': 853, 'mad': 854, 'moving': 855, 'sister': 856, 'fate': 857, 'closed': 858, 'smiled': 859, 'nobodys': 860, 'flying': 861, 'jive': 862, 'hopes': 863, 'white': 864, 'bird': 865, 'softly': 866, 'si': 867, 'tuviera': 868, 'volverlo': 869, 'hacer': 870, 'haria': 871, 'beautiful': 872, 'weather': 873, 'track': 874, 'twinkle': 875, 'dawn': 876, 'gloom': 877, 'runs': 878, 'tears': 879, 'fell': 880, 'clouds': 881, 'early': 882, 'gives': 883, 'trouble': 884, 'romance': 885, 'taken': 886, 'daddy': 887, 'loose': 888, 'begun': 889, 'size': 890, 'beats': 891, 'million': 892, 'choice': 893, 'angels': 894, 'dry': 895, 'mirror': 896, 'needed': 897, 'wall': 898, 'clearly': 899, 'able': 900, 'trooper': 901, 'mighty': 902, 'sit': 903, 'mia': 904, 'damn': 905, 'turns': 906, 'store': 907, 'word': 908, 'clear': 909, 'women': 910, 'flowers': 911, 'whenever': 912, 'sense': 913, 'pass': 914, 'building': 915, 'visitors': 916, 'winner': 917, 'kin': 918, 'breath': 919, 'shed': 920, 'stinks': 921, '1': 922, '2': 923, 'catch': 924, 'draw': 925, 'daddys': 926, 'knock': 927, 'yonder': 928, 'heh': 929, 'tongue': 930, 'youtrip': 931, 'soft': 932, 'notion': 933, 'walkin': 934, 'peace': 935, 'warning': 936, 'filled': 937, 'truth': 938, 'walls': 939, 'blown': 940, 'seeing': 941, 'bone': 942, 'sittin': 943, 'memory': 944, 'heal': 945, 'driving': 946, 'searching': 947, 'meets': 948, 'eagle': 949, 'higher': 950, 'travel': 951, 'repeat': 952, 'en': 953, 'de': 954, 'next': 955, 'working': 956, 'lying': 957, 'trees': 958, 'twilight': 959, 'dying': 960, 'embers': 961, 'awake': 962, 'forgotten': 963, 'games': 964, 'watching': 965, 'honolulu': 966, 'hawaii': 967, 'party': 968, 'ten': 969, 'running': 970, 'gold': 971, 'beginning': 972, 'least': 973, 'rhythm': 974, 'streets': 975, 'pay': 976, 'keepin': 977, 'tellin': 978, 'number': 979, 'destiny': 980, 'landslide': 981, 'easily': 982, 'patience': 983, 'mamma': 984, 'bobby': 985, 'bobbys': 986, 'happens': 987, 'treasure': 988, 'lalala': 989, 'secret': 990, 'nina': 991, 'ballerina': 992, 'cinderella': 993, 'great': 994, 'situation': 995, 'key': 996, 'started': 997, 'horse': 998, 'stand': 999, 'died': 1000, 'starts': 1001, 'thanks': 1002, 'melody': 1003, 'carrie': 1004, 'quarter': 1005, 'upside': 1006, 'piper': 1007, 'dice': 1008, 'attack': 1009, 'promised': 1010, 'regrets': 1011, 'ohalala': 1012, 'lately': 1013, 'book': 1014, 'promise': 1015, 'merry': 1016, 'traveling': 1017, 'color': 1018, 'calling': 1019, 'confess': 1020, 'nation': 1021, 'wasted': 1022, 'bridge': 1023, 'illuminates': 1024, 'doubts': 1025, 'harder': 1026, 'lasts': 1027, 'court': 1028, 'kissin': 1029, 'tails': 1030, 'nose': 1031, 'feelin': 1032, 'shut': 1033, 'cmon': 1034, 'nancy': 1035, 'brain': 1036, 'elevator': 1037, 'water': 1038, 'feeds': 1039, 'earth': 1040, 'thin': 1041, 'shows': 1042, 'ladies': 1043, 'york': 1044, 'season': 1045, 'job': 1046, 'tropez': 1047, 'attic': 1048, 'wearing': 1049, 'pneumonia': 1050, 'skin': 1051, 'praised': 1052, 'lucy': 1053, 'girlya': 1054, 'voodoo': 1055, 'fellow': 1056, 'tough': 1057, 'saying': 1058, 'mistake': 1059, 'forgive': 1060, 'tender': 1061, 'eye': 1062, 'singing': 1063, 'none': 1064, 'darkest': 1065, 'final': 1066, 'shadow': 1067, 'figure': 1068, 'deny': 1069, 'front': 1070, 'realized': 1071, 'mood': 1072, 'seventeen': 1073, 'laughing': 1074, 'disillusion': 1075, 'disillusions': 1076, 'loud': 1077, 'stars': 1078, 'reach': 1079, 'whirl': 1080, 'dreaming': 1081, 'drums': 1082, 'seemed': 1083, 'regret': 1084, 'recall': 1085, 'freedom': 1086, 'x2': 1087, 'yo': 1088, 'autumn': 1089, 'fortune': 1090, 'plane': 1091, 'sand': 1092, 'yesterday': 1093, 'chair': 1094, 'leading': 1095, 'pushing': 1096, 'hurry': 1097, 'river': 1098, 'sail': 1099, 'ocean': 1100, 'spit': 1101, 'kill': 1102, 'conceal': 1103, 'thrill': 1104, 'evil': 1105, 'wide': 1106, 'constant': 1107, 'steady': 1108, 'famous': 1109, 'bars': 1110, 'painted': 1111, 'lifetime': 1112, 'thinkin': 1113, 'doin': 1114, 'kong': 1115, 'silly': 1116, 'ceiling': 1117, 'someday': 1118, 'tv': 1119, 'devotions': 1120, 'emotions': 1121, 'silence': 1122, 'seasons': 1123, 'wedding': 1124, 'choose': 1125, 'sensation': 1126, 'gloomy': 1127, 'corner': 1128, 'waited': 1129, 'brokenhearted': 1130, 'apple': 1131, 'rainy': 1132, 'everyones': 1133, 'table': 1134, 'fancy': 1135, 'trough': 1136, 'faces': 1137, 'fact': 1138, 'hair': 1139, 'faith': 1140, 'spin': 1141, 'buddy': 1142, 'rhyme': 1143, 'dig': 1144, 'jet': 1145, 'trick': 1146, 'teach': 1147, 'rubber': 1148, 'usual': 1149, 'short': 1150, 'grown': 1151, 'drum': 1152, 'nine': 1153, 'dinner': 1154, 'crown': 1155, 'minds': 1156, 'east': 1157, 'history': 1158, 'local': 1159, 'three': 1160, 'cover': 1161, 'decision': 1162, 'livingstone': 1163, 'endless': 1164, 'reaching': 1165, 'born': 1166, 'fuck': 1167, 'later': 1168, 'hells': 1169, 'polychronopolous': 1170, 'dust': 1171, 'appetite': 1172, 'crime': 1173, 'burnin': 1174, 'workin': 1175, 'lines': 1176, 'gypsy': 1177, 'losin': 1178, 'foolin': 1179, 'pandora': 1180, 'tramp': 1181, 'cutie': 1182, 'mam': 1183, 'rocket': 1184, 'boogie': 1185, 'hearted': 1186, 'gritty': 1187, 'screw': 1188, 'spaced': 1189, 'spiderman': 1190, 'lingers': 1191, 'tip': 1192, 'na': 1193, 'awhile': 1194, 'beaten': 1195, 'wonderful': 1196, 'sees': 1197, 'slowly': 1198, 'tread': 1199, 'stuff': 1200, 'cheap': 1201, 'feels': 1202, 'sender': 1203, 'humdehumhum': 1204, 'surrender': 1205, 'holy': 1206, 'staying': 1207, 'secrets': 1208, 'ship': 1209, 'casting': 1210, 'bags': 1211, 'sorrow': 1212, 'quiet': 1213, 'candle': 1214, 'emptiness': 1215, 'stupid': 1216, 'waitin': 1217, 'borrow': 1218, 'fade': 1219, 'friday': 1220, 'swing': 1221, 'tambourine': 1222, 'wondering': 1223, 'chat': 1224, 'flash': 1225, 'reality': 1226, 'wooh': 1227, 'spell': 1228, 'climb': 1229, 'ago': 1230, 'atras': 1231, 'tu': 1232, 'por': 1233, 'diamond': 1234, 'goodnight': 1235, 'falls': 1236, 'peaceful': 1237, 'become': 1238, 'images': 1239, 'winds': 1240, 'eternity': 1241, 'cannot': 1242, 'exciting': 1243, 'beach': 1244, 'thinks': 1245, 'anyway': 1246, 'depend': 1247, 'comfort': 1248, 'others': 1249, 'everywhere': 1250, 'trace': 1251, 'hesitation': 1252, 'unknown': 1253, 'setting': 1254, 'paid': 1255, 'worse': 1256, 'action': 1257, 'paint': 1258, 'telling': 1259, 'nearly': 1260, 'dizzy': 1261, 'among': 1262, 'looks': 1263, 'cloud': 1264, 'attraction': 1265, 'skyline': 1266, 'energy': 1267, 'neon': 1268, 'joke': 1269, 'familiar': 1270, 'married': 1271, 'frightening': 1272, 'scares': 1273, 'coward': 1274, 'family': 1275, 'restless': 1276, 'bills': 1277, 'space': 1278, 'pet': 1279, 'happening': 1280, 'delight': 1281, 'adore': 1282, 'beams': 1283, 'facing': 1284, 'touching': 1285, 'dreadful': 1286, 'chest': 1287, 'lips': 1288, 'safe': 1289, 'scared': 1290, 'ahhaa': 1291, 'stuck': 1292, 'lots': 1293, 'dirty': 1294, 'glow': 1295, 'news': 1296, 'parted': 1297, 'slam': 1298, 'bye': 1299, 'fat': 1300, 'lunch': 1301, 'boss': 1302, 'conscience': 1303, 'beside': 1304, 'stands': 1305, 'moods': 1306, 'inspiration': 1307, 'combination': 1308, 'freak': 1309, 'ideas': 1310, 'doors': 1311, 'motion': 1312, 'flowing': 1313, 'urge': 1314, 'explain': 1315, 'week': 1316, 'shot': 1317, 'staring': 1318, 'changed': 1319, 'dame': 1320, 'fan': 1321, 'nee': 1322, 'company': 1323, 'kick': 1324, 'reeling': 1325, 'flies': 1326, 'stone': 1327, 'throat': 1328, 'ahhaha': 1329, 'moonlight': 1330, 'renee': 1331, 'sleeping': 1332, 'suzy': 1333, 'playground': 1334, 'flown': 1335, 'affair': 1336, 'baa': 1337, 'honesty': 1338, 'notthekindofgirlyoudmarry': 1339, 'certain': 1340, 'paper': 1341, 'gotten': 1342, 'hid': 1343, 'five': 1344, 'opened': 1345, 'turning': 1346, 'disgrace': 1347, 'step': 1348, 'impossible': 1349, 'case': 1350, 'books': 1351, 'muffled': 1352, 'noises': 1353, 'louder': 1354, 'irritation': 1355, 'fainting': 1356, 'trembling': 1357, 'terror': 1358, 'escaping': 1359, 'rules': 1360, 'spotlight': 1361, 'shape': 1362, 'heres': 1363, 'quite': 1364, 'flame': 1365, 'won': 1366, 'refuse': 1367, 'natural': 1368, 'whom': 1369, 'passion': 1370, 'fashion': 1371, 'curl': 1372, 'whistle': 1373, 'judge': 1374, 'mr': 1375, 'mudda': 1376, 'letter': 1377, 'tasted': 1378, 'four': 1379, 'fuckin': 1380, 'names': 1381, 'steve': 1382, 'motherfucking': 1383, 'girlfriend': 1384, 'grab': 1385, 'hits': 1386, 'mrr': 1387, 'smoke': 1388, 'matters': 1389, 'lied': 1390, 'coat': 1391, 'mustve': 1392, 'piece': 1393, 'steal': 1394, 'mouth': 1395, 'souls': 1396, 'glory': 1397, 'fuse': 1398, 'check': 1399, 'woke': 1400, 'promises': 1401, 'sin': 1402, 'bliss': 1403, 'drag': 1404, 'drawn': 1405, 'pack': 1406, 'whose': 1407, 'citys': 1408, 'fist': 1409, 'hill': 1410, 'bay': 1411, 'shell': 1412, 'conversation': 1413, 'wears': 1414, 'tan': 1415, 'forty': 1416, 'misery': 1417, '88': 1418, 'woogie': 1419, 'flu': 1420, 'woe': 1421, 'unreal': 1422, 'knowsyeah': 1423, 'finer': 1424, 'remind': 1425, 'ha': 1426, 'foolish': 1427, 'reals': 1428, 'stoppin': 1429, 'swore': 1430, 'notice': 1431, 'plan': 1432, 'lightly': 1433, 'rotten': 1434, 'keeping': 1435, 'dumbedumdum': 1436, 'bedumbedumdum': 1437, 'dumbbedumbdumb': 1438, 'bedumbbedumbdumb': 1439, 'sucker': 1440, 'laughter': 1441, 'misunderstood': 1442, 'power': 1443, 'weave': 1444, 'grieving': 1445, 'feather': 1446, 'hardly': 1447, 'guys': 1448, 'joe': 1449, 'diggin': 1450, 'changing': 1451, 'hoping': 1452, 'flirt': 1453, 'pretend': 1454, 'fuss': 1455, 'hearing': 1456, 'stories': 1457, 'places': 1458, 'wings': 1459, 'rides': 1460, 'seas': 1461, 'distant': 1462, 'closer': 1463, 'grey': 1464, 'havent': 1465, 'con': 1466, 'algo': 1467, 'habia': 1468, 'alrededor': 1469, 'quiza': 1470, 'claridad': 1471, 'brillaba': 1472, 'nosotros': 1473, 'dos': 1474, 'proteccion': 1475, 'pensabamos': 1476, 'jamas': 1477, 'perder': 1478, 'ni': 1479, 'echar': 1480, 'bus': 1481, 'downtown': 1482, 'grass': 1483, 'daylight': 1484, 'fireplace': 1485, 'solitude': 1486, 'subdued': 1487, 'scenes': 1488, 'present': 1489, 'entwined': 1490, 'prolonged': 1491, 'flat': 1492, 'prays': 1493, 'plain': 1494, 'alice': 1495, 'plans': 1496, 'vacation': 1497, 'vision': 1498, 'neighbor': 1499, 'jungles': 1500, 'rushing': 1501, 'pace': 1502, 'gauntlet': 1503, 'lace': 1504, 'extreme': 1505, 'stayed': 1506, 'broke': 1507, 'worst': 1508, 'cursed': 1509, 'office': 1510, 'pool': 1511, 'colors': 1512, 'surely': 1513, 'whispered': 1514, 'welcome': 1515, 'language': 1516, 'hotels': 1517, 'cocktail': 1518, 'smells': 1519, 'turmoil': 1520, 'cars': 1521, 'breathing': 1522, 'cope': 1523, 'fail': 1524, 'straight': 1525, 'speaking': 1526, 'houses': 1527, 'dull': 1528, 'missed': 1529, 'courage': 1530, 'business': 1531, 'everythings': 1532, 'pushed': 1533, 'string': 1534, 'pirouette': 1535, 'control': 1536, 'brought': 1537, 'ease': 1538, 'agree': 1539, 'twenty': 1540, 'prove': 1541, 'killer': 1542, 'gorilla': 1543, 'affairs': 1544, 'riding': 1545, 'losing': 1546, 'smoking': 1547, 'wasting': 1548, 'winter': 1549, 'snow': 1550, 'papers': 1551, 'result': 1552, 'resist': 1553, 'limousine': 1554, 'wine': 1555, 'spider': 1556, 'bothered': 1557, 'most': 1558, 'everyday': 1559, 'fights': 1560, 'wildest': 1561, 'kids': 1562, 'liked': 1563, 'shouldnt': 1564, 'unique': 1565, 'course': 1566, 'act': 1567, 'prison': 1568, 'penny': 1569, 'ahaahaaa': 1570, 'travelled': 1571, 'image': 1572, 'posses': 1573, 'bless': 1574, 'ahead': 1575, 'shy': 1576, 'human': 1577, 'rights': 1578, 'state': 1579, 'bar': 1580, 'changin': 1581, 'paris': 1582, 'talked': 1583, 'walks': 1584, 'worries': 1585, 'hero': 1586, 'whos': 1587, 'drop': 1588, 'cares': 1589, 'sombrero': 1590, 'dressed': 1591, 'fans': 1592, 'ohoh': 1593, 'stare': 1594, 'badly': 1595, 'babys': 1596, 'set': 1597, 'fools': 1598, 'halfway': 1599, 'palm': 1600, 'message': 1601, 'capture': 1602, 'horns': 1603, 'bugler': 1604, 'distance': 1605, 'block': 1606, 'weary': 1607, 'breathe': 1608, 'mamas': 1609, 'bringing': 1610, 'whoever': 1611, 'letters': 1612, 'seventh': 1613, 'aim': 1614, 'disaster': 1615, 'clumsy': 1616, 'hills': 1617, 'summoned': 1618, 'south': 1619, 'west': 1620, 'tearing': 1621, 'evergrowing': 1622, 'played': 1623, 'glowing': 1624, 'pages': 1625, 'candy': 1626, 'defenses': 1627, 'rescue': 1628, 'masters': 1629, 'cest': 1630, 'ohalalala': 1631, 'fading': 1632, 'stranger': 1633, 'itself': 1634, 'defeated': 1635, 'war': 1636, 'milk': 1637, 'cookies': 1638, 'sacrificed': 1639, 'nile': 1640, 'putting': 1641, 'themselves': 1642, 'chill': 1643, 'pie': 1644, 'class': 1645, 'lesson': 1646, 'wellknown': 1647, 'according': 1648, 'mental': 1649, 'against': 1650, 'tone': 1651, 'colour': 1652, 'laudate': 1653, 'twist': 1654, 'forgot': 1655, 'sincere': 1656, 'stops': 1657, 'gee': 1658, 'fucks': 1659, 'clothes': 1660, 'bitch': 1661, 'tin': 1662, 'brains': 1663, 'showed': 1664, 'slice': 1665, 'pants': 1666, 'extra': 1667, 'club': 1668, 'bouncer': 1669, 'stinky': 1670, 'thumbs': 1671, 'arbuckle': 1672, 'musta': 1673, 'jack': 1674, 'son': 1675, 'weed': 1676, 'note': 1677, 'wrote': 1678, 'seam': 1679, 'lump': 1680, 'outro': 1681, 'blood': 1682, 'bare': 1683, 'melt': 1684, 'stays': 1685, 'miles': 1686, 'ooooohh': 1687, 'worlds': 1688, 'weak': 1689, 'which': 1690, 'tidy': 1691, 'drunk': 1692, 'older': 1693, 'mistakes': 1694, 'fears': 1695, 'survive': 1696, 'missin': 1697, 'biscuits': 1698, 'oven': 1699, 'hallelujah': 1700, 'glass': 1701, 'tail': 1702, 'checkmate': 1703, 'ho': 1704, 'knife': 1705, 'eats': 1706, 'eatin': 1707, 'beggin': 1708, 'brand': 1709, 'lust': 1710, 'rattlesnake': 1711, 'speed': 1712, 'plague': 1713, 'holdin': 1714, 'nowhere': 1715, 'ohlay': 1716, 'pullin': 1717, 'survives': 1718, 'tea': 1719, 'dogs': 1720, 'hushabye': 1721, 'boot': 1722, 'mornin': 1723, 'makin': 1724, 'dreamer': 1725, 'carriage': 1726, 'trial': 1727, 'kickin': 1728, 'needle': 1729, 'backstage': 1730, 'police': 1731, 'insanity': 1732, 'runnin': 1733, 'awful': 1734, 'fault': 1735, 'coffee': 1736, 'loss': 1737, 'hangin': 1738, 'clean': 1739, 'shines': 1740, 'cherry': 1741, 'huh': 1742, 'gain': 1743, 'strangest': 1744, 'followed': 1745, 'nitty': 1746, 'explode': 1747, 'comic': 1748, 'somebodys': 1749, 'danced': 1750, 'roseyeah': 1751, 'sunshineyeah': 1752, '103': 1753, '4': 1754, '5': 1755, 'bends': 1756, 'thru': 1757, 'youno': 1758, 'medicine': 1759, 'smiles': 1760, 'lucky': 1761, 'gently': 1762, 'butterflies': 1763, 'lousy': 1764, 'packing': 1765, 'intention': 1766, 'dimension': 1767, 'advice': 1768, 'selfish': 1769, 'tool': 1770, 'showing': 1771, 'boomerang': 1772, 'throwing': 1773, 'hoot': 1774, 'holler': 1775, 'deal': 1776, 'bridges': 1777, 'hiding': 1778, 'believed': 1779, 'sailing': 1780, 'father': 1781, 'watched': 1782, 'sails': 1783, 'slack': 1784, 'heartaches': 1785, 'scars': 1786, 'closing': 1787, 'dreamed': 1788, 'chills': 1789, 'tonights': 1790, 'musics': 1791, 'teaser': 1792, 'circle': 1793, 'scar': 1794, 'violin': 1795, 'beyond': 1796, 'spread': 1797, 'mountains': 1798, 'forests': 1799, 'wing': 1800, 'limit': 1801, 'guiding': 1802, 'calls': 1803, 'afar': 1804, 'prepared': 1805, 'liberty': 1806, 'escuchar': 1807, 'una': 1808, 'un': 1809, 'se': 1810, 'el': 1811, 'hoy': 1812, 'depressed': 1813, 'bumble': 1814, 'bee': 1815, 'flower': 1816, 'lazy': 1817, 'haze': 1818, 'rustling': 1819, 'trapped': 1820, 'awaited': 1821, 'twelve': 1822, 'loneliness': 1823, 'happen': 1824, 'bitter': 1825, 'skies': 1826, 'swimming': 1827, 'holding': 1828, 'champagne': 1829, 'arrives': 1830, 'okay': 1831, 'dragging': 1832, 'praying': 1833, 'compassion': 1834, 'begging': 1835, 'driftwood': 1836, 'flow': 1837, 'misfortune': 1838, 'las': 1839, 'vegas': 1840, 'burden': 1841, 'weighed': 1842, 'machine': 1843, 'beast': 1844, 'simple': 1845, 'revelation': 1846, 'spreading': 1847, 'irresistible': 1848, 'creature': 1849, 'blend': 1850, 'glamor': 1851, 'crowded': 1852, 'chances': 1853, 'pot': 1854, 'hungry': 1855, 'shopping': 1856, 'fairy': 1857, 'tale': 1858, 'mile': 1859, 'beauty': 1860, 'healing': 1861, 'farce': 1862, 'ancient': 1863, 'valley': 1864, 'grand': 1865, 'intrusion': 1866, 'explanation': 1867, 'hanging': 1868, 'homes': 1869, 'wellplanned': 1870, 'wise': 1871, 'expecting': 1872, 'surprises': 1873, 'buses': 1874, 'starin': 1875, 'outward': 1876, 'taught': 1877, 'complain': 1878, 'photograph': 1879, 'ok': 1880, 'release': 1881, 'excite': 1882, 'pleading': 1883, 'stage': 1884, 'success': 1885, 'arrive': 1886, 'reading': 1887, 'bet': 1888, 'beating': 1889, 'jungle': 1890, 'funky': 1891, 'hang': 1892, 'fingertips': 1893, 'compared': 1894, 'nightmare': 1895, 'memries': 1896, 'jealous': 1897, 'overturned': 1898, 'sharing': 1899, 'devotion': 1900, 'sensible': 1901, 'spring': 1902, 'given': 1903, 'dreary': 1904, 'brighter': 1905, 'enjoy': 1906, 'ahh': 1907, 'kissing': 1908, 'angry': 1909, 'bell': 1910, 'bill': 1911, 'caviar': 1912, 'cobweb': 1913, 'hammer': 1914, 'doublecross': 1915, 'deals': 1916, 'lake': 1917, 'climbing': 1918, 'football': 1919, 'acting': 1920, 'mess': 1921, 'fork': 1922, 'pan': 1923, 'ad': 1924, 'heavens': 1925, 'search': 1926, 'difference': 1927, 'laah': 1928, 'worn': 1929, 'sincerely': 1930, 'reflections': 1931, 'cheeks': 1932, 'x4': 1933, 'catches': 1934, 'row': 1935, 'often': 1936, 'bore': 1937, 'exactly': 1938, 'breakfast': 1939, 'begin': 1940, 'realize': 1941, 'herself': 1942, 'philosophy': 1943, 'seine': 1944, 'remain': 1945, 'age': 1946, 'tourist': 1947, 'jam': 1948, 'notre': 1949, 'restaurants': 1950, 'croissants': 1951, 'bank': 1952, 'harmony': 1953, 'female': 1954, 'saddle': 1955, 'sunset': 1956, 'fashioned': 1957, 'meek': 1958, 'wholl': 1959, 'headline': 1960, 'impatiently': 1961, 'understood': 1962, 'bought': 1963, 'banner': 1964, 'toes': 1965, 'balloon': 1966, 'wrapped': 1967, 'cocoon': 1968, 'eternal': 1969, 'harm': 1970, 'bluest': 1971, 'schoolbag': 1972, 'waving': 1973, 'absentminded': 1974, 'guilt': 1975, 'freeze': 1976, 'tricks': 1977, 'moneys': 1978, 'dazing': 1979, 'waking': 1980, 'stirring': 1981, 'pale': 1982, 'grip': 1983, 'december': 1984, 'march': 1985, 'rumble': 1986, 'thunder': 1987, 'sidewalks': 1988, 'ahah': 1989, 'giant': 1990, 'dynamo': 1991, 'folks': 1992, 'scattered': 1993, 'laughed': 1994, 'cos': 1995, 'began': 1996, 'disguise': 1997, 'toy': 1998, 'eight': 1999, 'station': 2000, 'due': 2001, 'top': 2002, 'lit': 2003, 'rule': 2004, 'frame': 2005, 'stopped': 2006, 'food': 2007, 'french': 2008, 'pushin': 2009, 'bashful': 2010, 'sub': 2011, 'luna': 2012, 'saltamus': 2013, 'dare': 2014, 'finding': 2015, 'violence': 2016, 'loser': 2017, 'gods': 2018, 'judges': 2019, 'decide': 2020, 'alleys': 2021, 'wander': 2022, 'paradise': 2023, 'wife': 2024, 'sounded': 2025, 'meeting': 2026, 'tighter': 2027, 'tame': 2028, 'repeating': 2029, 'newsstand': 2030, 'fellas': 2031, 'neither': 2032, 'nor': 2033, 'sex': 2034, 'humble': 2035, 'calmly': 2036, 'crossroadsno': 2037, 'trance': 2038, 'lonesome': 2039, 'parts': 2040, 'ticket': 2041, 'existence': 2042, 'locked': 2043, 'mystery': 2044, 'problem': 2045, 'someones': 2046, 'twosome': 2047, 'fit': 2048, 'wheels': 2049, 'blueeyed': 2050, 'connie': 2051, 'walker': 2052, 'model': 2053, 'magnificat': 2054, 'secula': 2055, 'et': 2056, 'race': 2057, 'catcher': 2058, 'rye': 2059, 'ohh': 2060, 'hmmm': 2061, 'pray': 2062, 'seven': 2063, 'iberian': 2064, 'purpose': 2065, 'flee': 2066, 'moons': 2067, 'fadda': 2068, 'camp': 2069, 'granada': 2070, 'fudda': 2071, 'bear': 2072, 'garbage': 2073, 'adam': 2074, 'pipe': 2075, 'hype': 2076, 'naked': 2077, 'wicked': 2078, 'spent': 2079, 'blew': 2080, 'wire': 2081, 'pizza': 2082, 'shoe': 2083, 'swear': 2084, 'seat': 2085, 'dad': 2086, 'pansy': 2087, 'brothers': 2088, 'parachute': 2089, 'fries': 2090, 'opening': 2091, 'towards': 2092, 'f1': 2093, 'tennis': 2094, 'actor': 2095, 'hi': 2096, 'boat': 2097, 'balls': 2098, 'cost': 2099, 'drinking': 2100, 'kid': 2101, 'dope': 2102, 'cruel': 2103, 'platter': 2104, 'faked': 2105, 'favorite': 2106, 'daydreamer': 2107, 'jaw': 2108, 'doorstep': 2109, 'california': 2110, 'burst': 2111, 'bleed': 2112, 'whiskey': 2113, 'cuts': 2114, 'deepest': 2115, 'ones': 2116, 'uninvited': 2117, 'hoped': 2118, 'reminded': 2119, 'bestselling': 2120, 'section': 2121, 'poor': 2122, 'babay': 2123, 'kitchen': 2124, 'bread': 2125, 'dumplin': 2126, 'wet': 2127, 'mail': 2128, 'hound': 2129, 'feets': 2130, 'singin': 2131, 'toss': 2132, 'callin': 2133, 'bitchin': 2134, 'pills': 2135, 'rude': 2136, 'idea': 2137, 'ol': 2138, 'elses': 2139, 'agreed': 2140, 'jones': 2141, 'dts': 2142, 'guarantees': 2143, 'major': 2144, 'minor': 2145, 'microphone': 2146, 'lip': 2147, 'booze': 2148, 'threw': 2149, 'bass': 2150, 'ran': 2151, 'asleep': 2152, 'sir': 2153, 'suckin': 2154, 'moonshine': 2155, 'clothesline': 2156, 'cha': 2157, 'chicks': 2158, 'chain': 2159, 'drinkin': 2160, 'square': 2161, 'gin': 2162, 'nahnah': 2163, 'undone': 2164, 'lightnin': 2165, 'tenderness': 2166, 'slip': 2167, 'jury': 2168, 'swinging': 2169, 'highest': 2170, 'erase': 2171, 'ignorance': 2172, 'rocker': 2173, 'habit': 2174, 'shotgun': 2175, 'screams': 2176, 'fake': 2177, 'catchin': 2178, 'shootin': 2179, 'dragon': 2180, 'wagon': 2181, 'hadnt': 2182, 'meltdown': 2183, 'numbs': 2184, 'battle': 2185, 'nature': 2186, 'eyed': 2187, 'genocide': 2188, 'crystal': 2189, 'sack': 2190, 'skinny': 2191, 'legs': 2192, 'buttered': 2193, 'whatcha': 2194, 'popcorn': 2195, 'cheese': 2196, 'cake': 2197, 'acomin': 2198, 'agrin': 2199, 'level': 2200, 'universe': 2201, 'pissin': 2202, 'pinball': 2203, 'wizard': 2204, 'tilt': 2205, 'bozo': 2206, 'trekkie': 2207, 'warp': 2208, 'julio': 2209, 'afrokeluchie': 2210, 'countin': 2211, 'boots': 2212, 'rider': 2213, 'godiva': 2214, 'mon': 2215, 'ami': 2216, 'sweeter': 2217, 'honeybee': 2218, 'rubs': 2219, 'liar': 2220, 'sold': 2221, 'disease': 2222, 'pleasure': 2223, 'kansas': 2224, 'fires': 2225, 'flamingo': 2226, 'score': 2227, 'mountain': 2228, 'piled': 2229, 'lame': 2230, 'concubine': 2231, 'thieves': 2232, 'tasteless': 2233, 'champ': 2234, 'shady': 2235, 'cop': 2236, 'suit': 2237, 'womens': 2238, 'liberation': 2239, 'goodlike': 2240, 'aura': 2241, 'smell': 2242, 'flora': 2243, 'doora': 2244, 'permanent': 2245, 'cut': 2246, 'kite': 2247, 'ffff': 2248, 'twas': 2249, 'cord': 2250, 'rose': 2251, 'talkabubi': 2252, 'dedumdudidudi': 2253, 'lizzy': 2254, 'rats': 2255, 'cellar': 2256, 'skins': 2257, 'turnin': 2258, 'connection': 2259, 'cozy': 2260, 'fucked': 2261, 'dem': 2262, 'unlock': 2263, 'lemme': 2264, 'shall': 2265, 'inviting': 2266, 'touched': 2267, 'cheek': 2268, 'yea': 2269, 'rub': 2270, 'takin': 2271, 'spinnin': 2272, 'insignus': 2273, 'wither': 2274, 'sadly': 2275, 'borrowed': 2276, 'sedona': 2277, 'blowin': 2278, 'butt': 2279, 'sayin': 2280, 'guillotine': 2281, 'load': 2282, 'lived': 2283, 'tryin': 2284, 'tape': 2285, 'rollin': 2286, 'prayed': 2287, 'roared': 2288, 'keeper': 2289, 'deeper': 2290, 'karma': 2291, 'rabbit': 2292, 'saturday': 2293, 'marchin': 2294, 'yow': 2295, 'buckle': 2296, 'straightjack': 2297, 'jellybean': 2298, 'thorazine': 2299, 'transcendental': 2300, 'lag': 2301, 'sanity': 2302, 'pifiata': 2303, 'punch': 2304, 'pigeonhole': 2305, 'shave': 2306, 'hare': 2307, 'krishna': 2308, 'tattoo': 2309, 'dot': 2310, 'prozac': 2311, 'fixer': 2312, 'brick': 2313, 'leads': 2314, 'x3': 2315, 'bites': 2316, 'howlin': 2317, 'leap': 2318, 'guide': 2319, 'triathlon': 2320, 'aleilujah': 2321, 'chromosone': 2322, 'superdome': 2323, 'handsome': 2324, 'lane': 2325, 'heave': 2326, 'goa': 2327, 'trippin': 2328, 'salty': 2329, 'highyeah': 2330, 'girltheres': 2331, 'pissed': 2332, 'darlin': 2333, 'legendary': 2334, 'scuse': 2335, 'position': 2336, 'missionary': 2337, 'boo': 2338, 'yah': 2339, 'sang': 2340, 'wandering': 2341, 'seats': 2342, 'alternate': 2343, 'asked': 2344, 'drifting': 2345, 'problems': 2346, 'storybook': 2347, 'prince': 2348, 'naive': 2349, 'dooo': 2350, 'succeed': 2351, 'either': 2352, 'happiness': 2353, 'greed': 2354, 'holds': 2355, 'squeezes': 2356, 'velvet': 2357, 'shimmer': 2358, 'float': 2359, 'creep': 2360, 'entitled': 2361, 'heel': 2362, 'christ': 2363, 'tedious': 2364, 'cutting': 2365, 'tie': 2366, 'counting': 2367, 'unright': 2368, 'neighbours': 2369, 'burying': 2370, 'shouting': 2371, 'hollow': 2372, 'suffer': 2373, 'sell': 2374, 'bargain': 2375, 'smart': 2376, 'aching': 2377, 'linger': 2378, 'deeply': 2379, 'thorough': 2380, 'harbor': 2381, 'deck': 2382, 'tiny': 2383, 'rigid': 2384, 'restrained': 2385, 'enchained': 2386, 'shoulder': 2387, 'rely': 2388, 'patch': 2389, 'tumbling': 2390, 'handle': 2391, 'disapeared': 2392, 'stunned': 2393, 'lifes': 2394, 'pavement': 2395, 'acted': 2396, 'couple': 2397, 'snowbird': 2398, 'wound': 2399, 'shared': 2400, 'teasing': 2401, 'chick': 2402, 'cute': 2403, 'hollywood': 2404, 'charming': 2405, 'groovy': 2406, 'expectations': 2407, 'fedup': 2408, 'acquisitions': 2409, 'practising': 2410, 'improve': 2411, 'everytime': 2412, 'exist': 2413, 'listened': 2414, 'horizons': 2415, 'strangely': 2416, 'starry': 2417, 'firelight': 2418, 'humming': 2419, 'strumming': 2420, 'guitar': 2421, 'bugle': 2422, 'eternally': 2423, 'ashamed': 2424, 'roar': 2425, 'guns': 2426, 'cannons': 2427, 'rifle': 2428, 'frightful': 2429, 'crossed': 2430, 'rio': 2431, 'grande': 2432, 'puedes': 2433, 'recuerda': 2434, 'tiempo': 2435, 'estrellas': 2436, 'noche': 2437, 'alla': 2438, 'lumbre': 2439, 'azul': 2440, 'tarareabas': 2441, 'cancion': 2442, 'ese': 2443, 'suave': 2444, 'guitarrear': 2445, 'podia': 2446, 'esos': 2447, 'tambores': 2448, 'sordo': 2449, 'redoblar': 2450, 'acercaban': 2451, 'mas': 2452, 'momento': 2453, 'pasaba': 2454, 'parecia': 2455, 'eternidad': 2456, 'senti': 2457, 'temor': 2458, 'vida': 2459, 'juventud': 2460, 'nadie': 2461, 'pensaba': 2462, 'morir': 2463, 'siento': 2464, 'verguenza': 2465, 'al': 2466, 'confesar': 2467, 'tuve': 2468, 'ganas': 2469, 'llorar': 2470, 'vejez': 2471, 'llego': 2472, 'ella': 2473, 'paz': 2474, 'logramos': 2475, 'disfrutar': 2476, 'durmio': 2477, 'tambor': 2478, 'paraciera': 2479, 'fue': 2480, 'ayer': 2481, 'vivimos': 2482, 'tus': 2483, 'ojos': 2484, 'veo': 2485, 'aun': 2486, 'aquel': 2487, 'orgullo': 2488, 'refleja': 2489, 'valor': 2490, 'repeata': 2491, 'travelling': 2492, 'sip': 2493, 'railroad': 2494, 'bum': 2495, 'outdoors': 2496, 'chew': 2497, 'straw': 2498, 'glittring': 2499, 'bend': 2500, 'milky': 2501, 'raindrops': 2502, 'pane': 2503, 'stillness': 2504, 'silently': 2505, 'drifts': 2506, 'curtins': 2507, 'backs': 2508, 'echoes': 2509, 'warms': 2510, 't': 2511, 'v': 2512, 'gaze': 2513, 'gentleness': 2514, 'rubbing': 2515, 'patient': 2516, 'consolation': 2517, 'hmm': 2518, 'miracle': 2519, 'lingered': 2520, 'autumns': 2521, 'chilly': 2522, 'drove': 2523, 'airport': 2524, 'surfing': 2525, 'enjoying': 2526, 'card': 2527, 'greeting': 2528, 'descend': 2529, 'fireworks': 2530, 'unlike': 2531, 'nows': 2532, 'brave': 2533, 'thrives': 2534, 'ashes': 2535, 'clay': 2536, 'astray': 2537, 'confetti': 2538, 'decade': 2539, 'eightynine': 2540, 'benny': 2541, 'fighter': 2542, 'trend': 2543, 'personal': 2544, 'tend': 2545, 'admire': 2546, 'courageous': 2547, 'constantly': 2548, 'speaks': 2549, 'pats': 2550, 'exert': 2551, 'strands': 2552, 'destined': 2553, 'bustin': 2554, 'dam': 2555, 'shoreline': 2556, 'carried': 2557, 'trade': 2558, 'favours': 2559, 'spun': 2560, 'wheel': 2561, 'scored': 2562, 'banks': 2563, 'cent': 2564, 'blessed': 2565, 'hahahad': 2566, 'sam': 2567, 'chauffeur': 2568, 'annie': 2569, 'jerry': 2570, 'works': 2571, 'sue': 2572, 'weekends': 2573, 'romantic': 2574, 'thrills': 2575, 'stick': 2576, 'rid': 2577, 'doggone': 2578, 'type': 2579, 'vibrant': 2580, 'electrified': 2581, 'contribution': 2582, 'melting': 2583, 'feed': 2584, 'worship': 2585, 'homage': 2586, 'dazzled': 2587, 'grabbing': 2588, 'pieces': 2589, 'fatted': 2590, 'calf': 2591, 'parks': 2592, 'squares': 2593, 'destination': 2594, 'poet': 2595, 'acquainted': 2596, 'restrains': 2597, 'shallow': 2598, 'alley': 2599, 'urging': 2600, 'defeat': 2601, 'illusion': 2602, 'disturbance': 2603, 'wistful': 2604, 'seduce': 2605, 'dies': 2606, 'reservation': 2607, 'appointments': 2608, 'busy': 2609, 'temper': 2610, 'refuge': 2611, 'puppet': 2612, 'refugee': 2613, 'manage': 2614, 'possibly': 2615, 'glasgow': 2616, 'trooppperfeeling': 2617, 'moments': 2618, 'trooppperlike': 2619, 'supper': 2620, 'troopper': 2621, 'watchin': 2622, 'mistaking': 2623, 'shout': 2624, 'tomtom': 2625, 'gorillas': 2626, 'waddle': 2627, 'carefree': 2628, 'rooms': 2629, 'potential': 2630, 'threat': 2631, 'possessive': 2632, 'vice': 2633, 'shooting': 2634, 'duck': 2635, 'smalltalk': 2636, 'grownup': 2637, 'unsatisfied': 2638, 'skip': 2639, 'scarce': 2640, 'incomprehensible': 2641, 'buried': 2642, 'treated': 2643, 'presents': 2644, 'hat': 2645, 'hated': 2646, 'windows': 2647, 'yard': 2648, 'whiter': 2649, 'decided': 2650, 'traffic': 2651, 'lighter': 2652, 'physician': 2653, 'discovery': 2654, 'backed': 2655, 'claiming': 2656, 'longevity': 2657, 'factor': 2658, 'dynamite': 2659, 'drug': 2660, 'count': 2661, 'fifty': 2662, 'ninetyfive': 2663, 'pays': 2664, 'cigar': 2665, 'belly': 2666, 'lobster': 2667, 'vintage': 2668, 'peer': 2669, 'servants': 2670, 'mansion': 2671, 'quarreled': 2672, 'jekyll': 2673, 'hyde': 2674, 'toyed': 2675, 'dr': 2676, 'freud': 2677, 'applies': 2678, 'split': 2679, 'identity': 2680, 'vain': 2681, 'dingdong': 2682, 'marching': 2683, 'houston': 2684, 'gamble': 2685, 'sheriff': 2686, 'arrest': 2687, 'wealthy': 2688, 'monaco': 2689, 'voyager': 2690, 'settler': 2691, 'goal': 2692, 'explore': 2693, 'country': 2694, 'journey': 2695, 'ripples': 2696, 'surface': 2697, 'seagulls': 2698, 'hover': 2699, 'follows': 2700, 'phrase': 2701, 'separate': 2702, 'longest': 2703, 'sneak': 2704, 'loudest': 2705, 'record': 2706, 'pa': 2707, 'fred': 2708, 'blushing': 2709, 'suppose': 2710, 'mornings': 2711, 'neverending': 2712, 'uncertain': 2713, 'feller': 2714, 'respect': 2715, 'darker': 2716, 'impending': 2717, 'doom': 2718, 'wary': 2719, 'minister': 2720, 'flirty': 2721, 'advantage': 2722, 'shook': 2723, 'casual': 2724, 'stroll': 2725, 'unable': 2726, 'helpless': 2727, 'somethimes': 2728, 'cling': 2729, 'desperate': 2730, 'daydreams': 2731, 'suffering': 2732, 'passed': 2733, 'romances': 2734, 'robbing': 2735, 'rightful': 2736, 'dealt': 2737, 'concealed': 2738, 'stubborn': 2739, 'misconceiving': 2740, 'strolling': 2741, 'elysee': 2742, 'cafe': 2743, 'politics': 2744, 'mona': 2745, 'lisa': 2746, 'sat': 2747, 'eiffel': 2748, 'tower': 2749, 'flowerpower': 2750, 'harry': 2751, 'alway': 2752, 'matrimony': 2753, 'desert': 2754, 'bandana': 2755, 'showdown': 2756, 'bold': 2757, 'vacquero': 2758, 'disappearing': 2759, 'unchained': 2760, 'cowboys': 2761, 'senorita': 2762, 'harshly': 2763, 'cavaliero': 2764, 'bending': 2765, 'digging': 2766, 'hotel': 2767, 'mistaken': 2768, 'gentle': 2769, 'yours': 2770, 'rocknroll': 2771, 'cheer': 2772, 'poster': 2773, 'legend': 2774, 'bandstand': 2775, 'dreamland': 2776, 'clapping': 2777, 'jumping': 2778, 'screaming': 2779, 'towering': 2780, 'seriously': 2781, 'droning': 2782, 'clever': 2783, 'striped': 2784, 'pyjamas': 2785, 'trousers': 2786, 'carries': 2787, 'dangerously': 2788, 'indifferent': 2789, 'rambles': 2790, 'zoo': 2791, 'coconuts': 2792, 'calm': 2793, 'surge': 2794, 'sadness': 2795, 'entering': 2796, 'barely': 2797, 'odd': 2798, 'melancholy': 2799, 'adventures': 2800, 'planned': 2801, 'sulk': 2802, 'signs': 2803, 'drawing': 2804, 'storm': 2805, 'approaching': 2806, 'blinding': 2807, 'sign': 2808, 'points': 2809, 'forced': 2810, 'chose': 2811, 'haunt': 2812, 'impatience': 2813, 'creeping': 2814, 'spine': 2815, 'elusive': 2816, 'glitter': 2817, 'litter': 2818, 'remembering': 2819, 'worry': 2820, 'waste': 2821, 'baba': 2822, 'probably': 2823, 'talent': 2824, 'listens': 2825, 'grateful': 2826, 'dancer': 2827, 'wondered': 2828, 'golden': 2829, 'seek': 2830, 'mild': 2831, 'fairytales': 2832, 'ear': 2833, 'sympathy': 2834, 'dove': 2835, 'editorial': 2836, 'frowned': 2837, 'desk': 2838, 'heaps': 2839, 'signed': 2840, 'bunch': 2841, 'rained': 2842, 'cigarette': 2843, 'noticed': 2844, 'exception': 2845, 'routine': 2846, 'finished': 2847, 'undoubtedly': 2848, 'oclock': 2849, 'chinese': 2850, 'episode': 2851, 'dallas': 2852, 'latest': 2853, 'marilyn': 2854, 'yawned': 2855, 'cuddled': 2856, 'rattling': 2857, 'roof': 2858, 'throne': 2859, 'openhearted': 2860, 'invited': 2861, 'excited': 2862, 'valleys': 2863, 'plains': 2864, 'struggled': 2865, 'north': 2866, 'parish': 2867, 'priest': 2868, 'longed': 2869, 'seduced': 2870, 'weapon': 2871, 'doorbell': 2872, 'panic': 2873, 'ominously': 2874, 'numb': 2875, 'frozen': 2876, 'dearly': 2877, 'paintings': 2878, 'furniture': 2879, 'signals': 2880, 'sounding': 2881, 'tries': 2882, 'doorknob': 2883, 'stupidly': 2884, 'impatient': 2885, 'meetings': 2886, 'witnessed': 2887, 'anguish': 2888, 'humiliation': 2889, 'unexpected': 2890, 'hurting': 2891, 'cards': 2892, 'ace': 2893, 'victory': 2894, 'belonged': 2895, 'figured': 2896, 'fence': 2897, 'ice': 2898, 'loses': 2899, 'obeyed': 2900, 'abide': 2901, 'spectators': 2902, 'apologize': 2903, 'tense': 2904, 'selfconfidence': 2905, 'beware': 2906, 'horrible': 2907, 'gardens': 2908, 'beaches': 2909, 'bluebirds': 2910, 'mellow': 2911, 'shade': 2912, 'trivial': 2913, 'occupation': 2914, 'cleaned': 2915, 'platforms': 2916, 'railway': 2917, 'wished': 2918, 'matrimonial': 2919, 'advertising': 2920, 'ages': 2921, 'whiting': 2922, 'husky': 2923, 'amazed': 2924, 'purest': 2925, 'streak': 2926, 'hed': 2927, 'struck': 2928, 'thrilling': 2929, 'mutually': 2930, 'fulfilling': 2931, 'resistance': 2932, 'troubles': 2933, 'strategy': 2934, 'anger': 2935, 'persuade': 2936, 'definite': 2937, 'flattered': 2938, 'expectation': 2939, 'spark': 2940, 'offer': 2941, 'master': 2942, 'lightning': 2943, 'danger': 2944, 'napoleon': 2945, 'similiar': 2946, 'shelf': 2947, 'stronger': 2948, 'spacemen': 2949, 'toast': 2950, 'passage': 2951, 'instinctively': 2952, 'summers': 2953, 'treks': 2954, 'slightly': 2955, 'dignified': 2956, 'striving': 2957, 'generous': 2958, 'clearheaded': 2959, 'openeyed': 2960, 'untried': 2961, 'screamed': 2962, 'blush': 2963, 'petrified': 2964, 'leaning': 2965, 'laws': 2966, 'geometry': 2967, 'lean': 2968, 'quickly': 2969, 'traces': 2970, 'bahamas': 2971, 'petty': 2972, 'dramas': 2973, 'confusion': 2974, 'unwanted': 2975, 'entered': 2976, 'view': 2977, 'mesmerized': 2978, 'importantly': 2979, 'naturally': 2980, 'simon': 2981, 'garfunkel': 2982, 'romeo': 2983, 'juliet': 2984, 'pair': 2985, 'tragical': 2986, 'overcome': 2987, 'blocks': 2988, 'respond': 2989, 'glittering': 2990, 'sparkling': 2991, 'fulfill': 2992, 'texture': 2993, 'brightly': 2994, 'omnes': 2995, 'gentes': 2996, 'anima': 2997, 'mea': 2998, 'salvation': 2999, 'mankind': 3000, 'brotherhood': 3001, 'substitute': 3002, 'burned': 3003, 'candlse': 3004, 'quench': 3005, 'thirst': 3006, 'stressed': 3007, 'ouuh': 3008, 'ooooooh': 3009, 'jailer': 3010, 'host': 3011, 'hides': 3012, 'agony': 3013, 'earn': 3014, 'consequences': 3015, 'colours': 3016, 'ohhh': 3017, 'looser': 3018, 'invite': 3019, 'normal': 3020, 'ghost': 3021, 'steps': 3022, 'bribe': 3023, 'essence': 3024, 'amends': 3025, 'romancing': 3026, 'fathers': 3027, 'page': 3028, 'sinner': 3029, 'hustle': 3030, 'monster': 3031, 'gatekeeper': 3032, 'glimmer': 3033, 'height': 3034, 'disclosure': 3035, 'flair': 3036, 'swoon': 3037, 'prisoner': 3038, 'entertaining': 3039, 'raining': 3040, 'hiking': 3041, 'spivy': 3042, 'developed': 3043, 'poison': 3044, 'ivy': 3045, 'remeber': 3046, 'leonard': 3047, 'skinner': 3048, 'ptomaine': 3049, 'poisoning': 3050, 'counslers': 3051, 'waiters': 3052, 'alligators': 3053, 'coach': 3054, 'sissies': 3055, 'reads': 3056, 'uylesses': 3057, 'scare': 3058, 'bunk': 3059, 'mate': 3060, 'malaria': 3061, 'jeffery': 3062, 'hardy': 3063, 'organize': 3064, 'forest': 3065, 'eaten': 3066, 'dearest': 3067, 'hows': 3068, 'brudda': 3069, 'aunt': 3070, 'bertha': 3071, 'hailing': 3072, 'gals': 3073, 'base': 3074, 'bedda': 3075, 'kindly': 3076, 'disregard': 3077, 'bushes': 3078, 'motherfuckers': 3079, 'wash': 3080, 'gangsters': 3081, 'whered': 3082, 'motherfucker': 3083, 'gunshots': 3084, 'basement': 3085, 'fooled': 3086, 'hehehe': 3087, 'diapers': 3088, 'stink': 3089, 'shittin': 3090, 'motherfuckin': 3091, 'untouchable': 3092, 'whooo': 3093, 'hoo': 3094, 'cindy': 3095, 'scott': 3096, 'newleyweds': 3097, 'whoopeedoo': 3098, 'guyright': 3099, 'cryyy': 3100, 'reds': 3101, 'pinks': 3102, 'suurre': 3103, 'looove': 3104, 'punched': 3105, 'plenty': 3106, 'overnight': 3107, 'mailed': 3108, 'laced': 3109, 'lambasted': 3110, 'packed': 3111, 'sparked': 3112, 'bows': 3113, 'minutes': 3114, 'backgammon': 3115, 'spaceded': 3116, 'louies': 3117, 'hysterically': 3118, 'moonwalk': 3119, 'tripped': 3120, 'toaster': 3121, 'beak': 3122, 'eraseded': 3123, 'fried': 3124, 'bathtub': 3125, 'wanting': 3126, 'pepperoni': 3127, 'delivery': 3128, 'handed': 3129, 'ordered': 3130, 'baked': 3131, 'dick': 3132, 'beer': 3133, 'charley': 3134, 'horses': 3135, 'shorts': 3136, 'movies': 3137, 'wear': 3138, 'yankee': 3139, 'piss': 3140, 'toilet': 3141, 'stoned': 3142, 'jacket': 3143, 'pussy': 3144, 'douchebag': 3145, 'gate': 3146, 'pimple': 3147, 'sisters': 3148, 'stereo': 3149, 'performed': 3150, 'sandler': 3151, 'frank': 3152, 'randi': 3153, 'transcribed': 3154, 'bat': 3155, 'bottom': 3156, '6th': 3157, 'inning': 3158, 'league': 3159, 'pitch': 3160, 'baseball': 3161, 'ringingball': 3162, 'skydiving': 3163, 'finnally': 3164, '40': 3165, 'm1': 3166, 'quit': 3167, 'ripcord': 3168, 'moomrr': 3169, 'opens': 3170, 'moow': 3171, 'thud': 3172, 'chicken': 3173, 'drivethru': 3174, 'realising': 3175, 'bag': 3176, 'moomoo': 3177, 'screeches': 3178, 'winning': 3179, 'prise': 3180, 'bellyflop': 3181, 'contest': 3182, 'realises': 3183, 'swim': 3184, 'splash': 3185, 'cheering': 3186, 'mrrmrr': 3187, 'underwater': 3188, 'classy': 3189, 'strip': 3190, 'notices': 3191, 'm2': 3192, 'obvious': 3193, '3': 3194, 'mark': 3195, 'angle': 3196, 'receives': 3197, 'finds': 3198, 'practical': 3199, 'rings': 3200, 'picks': 3201, 'reservations': 3202, 'fatty': 3203, 'slams': 3204, 'revenge': 3205, 'vehicle': 3206, 'mooooooooooooo': 3207, 'donnie': 3208, 'boats': 3209, 'celtics': 3210, 'lockeroom': 3211, '50': 3212, 'gs': 3213, 'stole': 3214, 'storage': 3215, 'parking': 3216, 'shitten': 3217, 'paintjob': 3218, 'license': 3219, 'bingo': 3220, 'buzzed': 3221, 'worrying': 3222, 'eventually': 3223, 'snowmen': 3224, 'castles': 3225, 'growin': 3226, 'six': 3227, 'spellin': 3228, 'dwellin': 3229, 'grows': 3230, 'couch': 3231, 'insist': 3232, 'bein': 3233, 'pothead': 3234, 'herb': 3235, 'reefer': 3236, 'hawaiian': 3237, 'already': 3238, 'vicious': 3239, 'asking': 3240, 'forgiveness': 3241, 'drift': 3242, 'crumbling': 3243, 'spinning': 3244, 'boils': 3245, 'strips': 3246, 'fighting': 3247, 'crazier': 3248, 'pacing': 3249, 'floors': 3250, 'soaking': 3251, 'dropper': 3252, 'subject': 3253, 'lends': 3254, 'shelter': 3255, 'plus': 3256, 'waits': 3257, 'describe': 3258, 'supposed': 3259, 'younger': 3260, 'typical': 3261, 'oceans': 3262, 'gravity': 3263, 'moves': 3264, 'brushing': 3265, 'groove': 3266, 'delicate': 3267, 'ego': 3268, 'bricks': 3269, 'pulls': 3270, 'excusing': 3271, 'intentions': 3272, 'pretendings': 3273, 'desperately': 3274, 'link': 3275, 'burnt': 3276, 'build': 3277, 'sweeping': 3278, 'fills': 3279, 'ache': 3280, 'settled': 3281, 'raised': 3282, 'compares': 3283, 'newspaper': 3284, 'boycott': 3285, 'pressure': 3286, 'refrain': 3287, 'hook': 3288, 'drown': 3289, 'aaaah': 3290, 'buns': 3291, 'shortening': 3292, 'skillet': 3293, 'tickle': 3294, 'hambone': 3295, 'whet': 3296, 'bake': 3297, 'sop': 3298, 'gravy': 3299, 'dish': 3300, 'menu': 3301, 'dew': 3302, 'bees': 3303, 'saving': 3304, 'lightin': 3305, 'candles': 3306, 'astral': 3307, 'drain': 3308, 'indian': 3309, 'net': 3310, 'rarely': 3311, 'vile': 3312, 'silver': 3313, 'cowboy': 3314, 'salt': 3315, 'brine': 3316, 'ordinary': 3317, 'kicks': 3318, 'complainin': 3319, 'poodles': 3320, 'humor': 3321, 'shrinker': 3322, 'diet': 3323, 'bubble': 3324, 'junk': 3325, 'bonds': 3326, 'stiff': 3327, 'dancin': 3328, 'yacht': 3329, 'muff': 3330, 'biff': 3331, 'pearls': 3332, 'swine': 3333, 'attitudes': 3334, 'bellyache': 3335, 'rags': 3336, 'riches': 3337, 'inheritance': 3338, 'gray': 3339, 'poupon': 3340, 'sling': 3341, 'cupid': 3342, 'chip': 3343, 'fantasize': 3344, 'libido': 3345, 'transistor': 3346, 'bbut': 3347, 'core': 3348, 'nouveau': 3349, 'riche': 3350, 'hypnotic': 3351, 'leash': 3352, 'badder': 3353, 'jonesin': 3354, 'rip': 3355, 'margarita': 3356, 'jail': 3357, 'electrica': 3358, 'guitars': 3359, 'cranked': 3360, 'gang': 3361, 'bangs': 3362, 'excuse': 3363, 'fangs': 3364, 'backseat': 3365, 'drugs': 3366, 'gas': 3367, 'buzz': 3368, 'odin': 3369, 'lawn': 3370, 'pardon': 3371, 'gangster': 3372, 'ankles': 3373, 'upgive': 3374, 'fantasies': 3375, 'speculate': 3376, 'slave': 3377, 'bait': 3378, 'fright': 3379, 'dwight': 3380, '56': 3381, 'cadillac': 3382, 'spare': 3383, 'tire': 3384, 'charge': 3385, 'account': 3386, 'classic': 3387, 'ghoul': 3388, 'liquor': 3389, 'fourfortyfour': 3390, 'mojo': 3391, 'whitford': 3392, 'pistol': 3393, 'graveyard': 3394, 'shoots': 3395, 'tombstone': 3396, 'bullets': 3397, 'tnt': 3398, 'dynomite': 3399, 'schoolboy': 3400, 'curly': 3401, 'lotta': 3402, 'janie': 3403, 'arrested': 3404, 'untrue': 3405, 'jacked': 3406, 'bitty': 3407, 'iou': 3408, 'bullet': 3409, 'believes': 3410, 'sleaze': 3411, 'cradle': 3412, 'robbin': 3413, 'ruby': 3414, 'desires': 3415, 'ohbefore': 3416, 'whatchor': 3417, 'receive': 3418, 'pocket': 3419, 'dreamt': 3420, 'covers': 3421, 'tendernessyeah': 3422, 'fo': 3423, 'bettin': 3424, 'tossin': 3425, 'jackis': 3426, 'lingerie': 3427, 'fax': 3428, 'penthouse': 3429, 'pauper': 3430, 'millionaire': 3431, 'talker': 3432, 'timin': 3433, 'stairway': 3434, 'sassafras': 3435, 'savin': 3436, 'teenage': 3437, 'friction': 3438, 'magazine': 3439, 'turnaround': 3440, 'rubbin': 3441, 'birddog': 3442, 'bareback': 3443, 'slap': 3444, 'quarrels': 3445, 'witchor': 3446, 'believin': 3447, 'kissim': 3448, 'paranoia': 3449, 'personfffwho': 3450, 'meyeaah': 3451, 'list': 3452, 'laughin': 3453, 'primal': 3454, 'repeats': 3455, 'paying': 3456, 'dues': 3457, 'although': 3458, 'floatin': 3459, 'knowin': 3460, 'fadin': 3461, 'paradin': 3462, 'wag': 3463, 'perpetual': 3464, 'bald': 3465, 'egg': 3466, 'eighteen': 3467, 'stuffs': 3468, 'barren': 3469, 'dank': 3470, '25': 3471, 'buildings': 3472, 'stunk': 3473, 'ahhh': 3474, 'remembered': 3475, 'barefoot': 3476, 'tattered': 3477, 'coattails': 3478, 'rat': 3479, 'scrap': 3480, 'plate': 3481, 'fable': 3482, 'unstable': 3483, 'behold': 3484, 'foe': 3485, 'nostradamus': 3486, 'predicted': 3487, 'moanin': 3488, 'atoning': 3489, 'sins': 3490, 'ridden': 3491, 'shuts': 3492, 'blade': 3493, 'loveliness': 3494, 'acallin': 3495, 'rockabye': 3496, 'nightingales': 3497, 'ascreamin': 3498, 'divorcee': 3499, 'repouise': 3500, 'teller': 3501, 'eyeballs': 3502, 'wrinkles': 3503, 'unless': 3504, 'leader': 3505, 'feedin': 3506, 'spoon': 3507, 'shack': 3508, 'dyin': 3509, 'draggin': 3510, 'gggget': 3511, 'oooooh': 3512, 'ooooh': 3513, 'below': 3514, 'snorted': 3515, 'bleas': 3516, 'betty': 3517, 'boop': 3518, 'droolin': 3519, 'buzzing': 3520, 'hive': 3521, 'hooky': 3522, 'stead': 3523, 'schoolin': 3524, 'thirteen': 3525, 'hookers': 3526, 'junior': 3527, 'achivers': 3528, 'bull': 3529, 'breathes': 3530, 'hellfire': 3531, 'sadie': 3532, 'pussn': 3533, 'smokes': 3534, 'barbed': 3535, 'diamonds': 3536, 'heartbreaker': 3537, 'cheat': 3538, 'glue': 3539, 'hooks': 3540, 'stains': 3541, 'ivorys': 3542, 'fallin': 3543, 'appart': 3544, 'seams': 3545, 'leaf': 3546, 'readin': 3547, 'gypsies': 3548, 'holiday': 3549, 'inns': 3550, 'lock': 3551, 'stalemate': 3552, 'jailbait': 3553, 'reviews': 3554, 'barroom': 3555, 'slidin': 3556, 'screamer': 3557, 'marriage': 3558, 'aces': 3559, 'writin': 3560, 'nineteen': 3561, 'seventy': 3562, 'starters': 3563, 'maxs': 3564, 'johnny': 3565, 'otoole': 3566, 'clive': 3567, 'davis': 3568, 'choir': 3569, 'fetal': 3570, 'vaccinate': 3571, 'scratch': 3572, 'calomine': 3573, 'soles': 3574, 'creakin': 3575, 'puerto': 3576, 'rican': 3577, 'ridin': 3578, 'axle': 3579, 'grease': 3580, 'coppin': 3581, 'justice': 3582, 'junkie': 3583, 'whore': 3584, 'foot': 3585, 'topaz': 3586, 'sazzafrazz': 3587, 'corporation': 3588, 'jellyroll': 3589, 'singles': 3590, 'programmed': 3591, 'ascap': 3592, 'bmi': 3593, 'japanese': 3594, 'boil': 3595, 'teas': 3596, 'royalties': 3597, 'dreamin': 3598, 'screamin': 3599, 'lands': 3600, 'sinkin': 3601, 'prophets': 3602, 'stinkin': 3603, 'san': 3604, 'andreas': 3605, 'richters': 3606, 'noblemen': 3607, 'ears': 3608, 'spoke': 3609, 'discouragin': 3610, 'hears': 3611, 'stilt': 3612, 'hilt': 3613, 'debris': 3614, 'showtime': 3615, 'oclocks': 3616, 'prone': 3617, 'snooze': 3618, 'shinning': 3619, 'aah': 3620, 'ram': 3621, 'somethin': 3622, 'den': 3623, 'sly': 3624, 'lucked': 3625, 'womans': 3626, 'suffered': 3627, 'lesso': 3628, 'cheated': 3629, 'granted': 3630, 'sudden': 3631, 'severe': 3632, 'bogus': 3633, 'knowed': 3634, 'wastin': 3635, 'cagey': 3636, 'spike': 3637, 'tude': 3638, 'fruits': 3639, 'cruisin': 3640, 'venus': 3641, 'mars': 3642, 'lovins': 3643, 'aaarbricka': 3644, 'braka': 3645, 'fiya': 3646, 'kraka': 3647, 'sis': 3648, 'boombah': 3649, 'bra': 3650, 'sharp': 3651, 'carpet': 3652, 'tack': 3653, 'box': 3654, 'moderate': 3655, 'binge': 3656, 'catastrophes': 3657, 'lunatic': 3658, 'fringe': 3659, 'gander': 3660, 'tit': 3661, 'tat': 3662, 'hoof': 3663, 'endowed': 3664, 'fannies': 3665, 'operation': 3666, 'slicker': 3667, 'claim': 3668, 'fame': 3669, 'slitty': 3670, 'licker': 3671, 'montego': 3672, 'skys': 3673, 'lordie': 3674, 'sedation': 3675, 'pin': 3676, 'kinky': 3677, 'excess': 3678, 'baggage': 3679, 'freight': 3680, 'cummin': 3681, 'cayman': 3682, 'brack': 3683, 'firm': 3684, 'obsession': 3685, 'discover': 3686, 'bing': 3687, 'lingo': 3688, 'deco': 3689, 'umbrella': 3690, 'kink': 3691, 'wrap': 3692, 'sheets': 3693, 'crayon': 3694, 'biblical': 3695, 'noticing': 3696, 'connected': 3697, 'reached': 3698, 'ponys': 3699, 'gushed': 3700, 'waters': 3701, 'hooved': 3702, 'fur': 3703, 'feathers': 3704, 'flew': 3705, 'exploding': 3706, 'tonne': 3707, 'blonde': 3708, 'suze': 3709, 'thirty': 3710, 'covered': 3711, 'courier': 3712, 'lank': 3713, 'youth': 3714, 'dededudidudu': 3715, 'rippin': 3716, 'throwin': 3717, 'babes': 3718, 'version': 3719, 'grape': 3720, 'vine': 3721, 'shufflin': 3722, 'tap': 3723, 'sloe': 3724, 'fizzy': 3725, 'runny': 3726, 'affection': 3727, 'complaining': 3728, 'insanin': 3729, 'rosy': 3730, 'soggy': 3731, 'adaisies': 3732, 'schools': 3733, 'crash': 3734, 'lookie': 3735, '99': 3736, 'fingertip': 3737, 'gentlemen': 3738, 'elephant': 3739, 'green': 3740, 'bells': 3741, 'burn': 3742, 'joes': 3743, 'solo': 3744, 'amused': 3745, 'purrs': 3746, 'blurs': 3747, 'navigate': 3748, 'chump': 3749, 'sumpn': 3750, 'protege': 3751, 'nuclear': 3752, 'darkside': 3753, 'somthin': 3754, 'dune': 3755, 'rockets': 3756, 'gspot': 3757, 'admit': 3758, 'outer': 3759, 'fireball': 3760, 'perry': 3761, 'werent': 3762, 'sixteen': 3763, 'cooler': 3764, 'coincidental': 3765, 'murder': 3766, 'constipation': 3767, 'wifes': 3768, 'aggravation': 3769, 'gotcha': 3770, 'cocaine': 3771, 'smoothy': 3772, 'lawyer': 3773, 'getcha': 3774, 'aknockin': 3775, 'lockin': 3776, 'direction': 3777, 'rearrange': 3778, 'hurdygurdy': 3779, 'yayaya': 3780, 'sleepy': 3781, 'fireflies': 3782, 'awaken': 3783, 'responsibility': 3784, 'fired': 3785, 'kneesyeah': 3786, 'sweaty': 3787, 'bones': 3788, 'grief': 3789, 'offered': 3790, 'gavem': 3791, 'touchin': 3792, 'hymn': 3793, 'oughta': 3794, 'trot': 3795, 'homely': 3796, 'starved': 3797, 'companionship': 3798, 'meyeah': 3799, 'skinniest': 3800, 'sting': 3801, 'hung': 3802, 'wettin': 3803, 'weight': 3804, 'lend': 3805, 'define': 3806, 'dime': 3807, 'spot': 3808, 'younothing': 3809, 'paved': 3810, 'circumstance': 3811, 'dress': 3812, 'jill': 3813, 'shoot': 3814, 'splittin': 3815, 'hairs': 3816, 'loo': 3817, 'rot': 3818, 'refined': 3819, 'neath': 3820, 'underground': 3821, 'playin': 3822, 'sleepin': 3823, 'stairs': 3824, 'downtowns': 3825, 'jesus': 3826, 'grutty': 3827, 'titty': 3828, 'foul': 3829, 'hussy': 3830, 'rust': 3831, 'peeled': 3832, 'demise': 3833, 'leopard': 3834, 'nosey': 3835, 'mend': 3836, 'choosy': 3837, 'floosy': 3838, 'further': 3839, 'enjoys': 3840, 'dollar': 3841, 'cyberotic': 3842, 'information': 3843, 'overload': 3844, 'digerotic': 3845, 'mass': 3846, 'appeal': 3847, 'flesh': 3848, 'tastes': 3849, 'grace': 3850, 'interface': 3851, 'megahertz': 3852, 'steel': 3853, 'planet': 3854, 'papa': 3855, 'survived': 3856, 'ordeal': 3857, 'disappears': 3858, 'synthesize': 3859, 'overrides': 3860, 'spins': 3861, 'web': 3862, 'bud': 3863, 'radioactive': 3864, 'thread': 3865, 'spiderweb': 3866, 'bangup': 3867, 'wherever': 3868, 'hangup': 3869, 'trash': 3870, 'rainbows': 3871, 'haystack': 3872, 'imperfections': 3873, 'rhymes': 3874, 'ought': 3875, 'wonderland': 3876, 'ate': 3877, 'mushroom': 3878, 'hatter': 3879, 'fffffi': 3880, 'booty': 3881, 'caterpillars': 3882, 'plea': 3883, 'hog': 3884, 'gent': 3885, 'pulled': 3886, 'shakin': 3887, 'month': 3888, 'eating': 3889, 'steppin': 3890, 'sweepin': 3891, 'tombs': 3892, 'paranoid': 3893, 'yups': 3894, 'hop': 3895, 'stores': 3896, 'cups': 3897, 'ea': 3898, 'incense': 3899, 'mixes': 3900, 'funk': 3901, 'perfume': 3902, 'yin': 3903, 'yang': 3904, 'unpredictable': 3905, 'vindaloo': 3906, 'sets': 3907, 'tantric': 3908, 'priestess': 3909, 'sweetest': 3910, '101': 3911, '102': 3912, 'giver': 3913, '97': 3914, '98': 3915, 'false': 3916, 'alarm': 3917, '105': 3918, 'trainits': 3919, 'awaycharliei': 3920, 'oaahh': 3921, 'cockroach': 3922, 'arm': 3923, 'terminal': 3924, 'uniqueness': 3925, 'egocentric': 3926, 'freakness': 3927, 'peter': 3928, 'motherload': 3929, 'honeythen': 3930, 'roses': 3931, 'hip': 3932, 'shaking': 3933, 'wobble': 3934, 'double': 3935, 'crossin': 3936, 'getchoo': 3937, 'attitude': 3938, 'spittle': 3939, 'awhat': 3940, 'powder': 3941, 'wolf': 3942, 'silvery': 3943, 'joeys': 3944, 'pavlos': 3945, 'salivate': 3946, 'himself': 3947, 'rattle': 3948, 'snake': 3949, 'mall': 3950, 'watchman': 3951, 'sash': 3952, 'kicking': 3953, 'lyin': 3954, 'eclipse': 3955, 'tips': 3956, 'aerosmith': 3957, 'thered': 3958, 'baited': 3959, 'blinded': 3960, 'ow': 3961, 'goodbyes': 3962, 'forgiven': 3963, 'knockin': 3964, 'anow': 3965, 'snuff': 3966, 'sneeze': 3967, 'wags': 3968, 'especially': 3969, 'rewind': 3970, 'england': 3971, 'clues': 3972, 'sams': 3973, 'loaded': 3974, 'billy': 3975, 'goat': 3976, 'raise': 3977, 'kinds': 3978, 'dose': 3979, 'radiation': 3980, 'barn': 3981, 'patronizin': 3982, 'oils': 3983, 'mexican': 3984, 'opec': 3985, 'faar': 3986, 'papadum': 3987, 'prayer': 3988, 'nevermind': 3989, 'anytime': 3990, 'bluer': 3991, 'wayayayayyeahah': 3992, 'yayayayayayayow': 3993, 'albuquerque': 3994, 'jerk': 3995, 'yeeeah': 3996, 'hoops': 3997, 'jumpin': 3998, 'lemon': 3999, 'martini': 4000, 'suits': 4001, 'psychodelisized': 4002, 'boneafide': 4003, 'promiscuity': 4004, 'extosee': 4005, 'kaleidoscope': 4006, 'laying': 4007, 'emerald': 4008, 'pillow': 4009, 'yeahyeah': 4010, 'mammy': 4011, 'lusted': 4012, 'busted': 4013, 'trusted': 4014, 'orphan': 4015, 'bleeds': 4016, 'mothers': 4017, 'pushers': 4018, 'shovers': 4019, 'sailor': 4020, 'hers': 4021, 'cunning': 4022, 'arunnin': 4023, 'makeyou': 4024, 'erottickle': 4025, 'masturbatin': 4026, 'noose': 4027, 'ups': 4028, 'birth': 4029, 'gones': 4030, 'bygones': 4031, 'prophesized': 4032, 'crucified': 4033, 'holes': 4034, 'gift': 4035, 'weights': 4036, 'heavy': 4037, 'lift': 4038, 'moolah': 4039, 'bolt': 4040, 'ons': 4041, 'quick': 4042, 'fix': 4043, 'skull': 4044, 'cap': 4045, 'dictionary': 4046, 'bootay': 4047, 'hotpants': 4048, 'hookah': 4049, 'knocked': 4050, 'hose': 4051, 'practise': 4052, 'peach': 4053, 'cooks': 4054, 'hidin': 4055, 'spoons': 4056, 'winkin': 4057, 'witches': 4058, 'ficitonary': 4059, 'springtime': 4060, 'folk': 4061, 'tables': 4062, 'fiddlers': 4063, 'fixed': 4064, 'however': 4065, 'sunday': 4066, 'except': 4067, 'tragedy': 4068, 'blindly': 4069, 'everone': 4070, 'spoken': 4071, 'sung': 4072, 'bug': 4073, 'college': 4074, 'stimulating': 4075, 'drive': 4076, 'roads': 4077, 'positions': 4078, 'shovel': 4079, 'broom': 4080, 'dial': 4081, 'telephone': 4082, 'insecure': 4083, 'obscure': 4084, 'remains': 4085, 'cure': 4086, 'tormented': 4087, 'torn': 4088, 'believing': 4089, 'messages': 4090, 'sending': 4091, 'pretending': 4092, 'cast': 4093, 'pressed': 4094, 'passes': 4095, 'whispers': 4096, 'fades': 4097, 'embrace': 4098, 'overflow': 4099, 'rivers': 4100, 'september': 4101, '1969': 4102, 'indians': 4103, 'uncaring': 4104, 'shareing': 4105, 'parents': 4106, 'innocence': 4107, 'shone': 4108, 'cottage': 4109, 'mortgage': 4110, 'strangers': 4111, 'discuss': 4112, 'filed': 4113, 'divorce': 4114, 'breaks': 4115, 'fiiled': 4116, 'forgetting': 4117, 'forgiving': 4118, 'protect': 4119, 'wiser': 4120, 'manufacture': 4121, 'troubled': 4122, 'weakness': 4123, 'discovered': 4124, 'sway': 4125, 'laundry': 4126, 'cook': 4127, 'listening': 4128, 'stalking': 4129, 'wore': 4130, 'depths': 4131, 'echo': 4132, 'less': 4133, 'prophet': 4134, 'potato': 4135, 'chips': 4136, 'joined': 4137, 'hips': 4138, 'zone': 4139, 'sacred': 4140, 'tills': 4141, 'daily': 4142, 'spirit': 4143, 'woken': 4144, 'demon': 4145, 'gates': 4146, 'soar': 4147}\n",
            "4148\n"
          ],
          "name": "stdout"
        }
      ]
    },
    {
      "cell_type": "code",
      "metadata": {
        "id": "we2sz0vQIqOE"
      },
      "source": [
        "sequences = []\n",
        "for line in corpus:\n",
        "\ttoken_list = tokenizer.texts_to_sequences([line])[0]\n",
        "\tfor i in range(1, len(token_list)):\n",
        "\t\tn_gram_sequence = token_list[:i+1]\n",
        "\t\tsequences.append(n_gram_sequence)\n",
        "\n",
        "# Pad sequences for equal input length \n",
        "max_sequence_len = max([len(seq) for seq in sequences])\n",
        "sequences = np.array(pad_sequences(sequences, maxlen=max_sequence_len, padding='pre'))\n",
        "\n",
        "# Split sequences between the \"input\" sequence and \"output\" predicted word\n",
        "input_sequences, labels = sequences[:,:-1], sequences[:,-1]\n",
        "# One-hot encode the labels\n",
        "one_hot_labels = tf.keras.utils.to_categorical(labels, num_classes=total_words)"
      ],
      "execution_count": 5,
      "outputs": []
    },
    {
      "cell_type": "code",
      "metadata": {
        "id": "6e5k-k5jI9kG",
        "outputId": "76bac801-708a-4f94-a894-56d2d2b4d915",
        "colab": {
          "base_uri": "https://localhost:8080/",
          "height": 153
        }
      },
      "source": [
        "# Check out how some of our data is being stored\n",
        "# The Tokenizer has just a single index per word\n",
        "print(tokenizer.word_index['know'])\n",
        "print(tokenizer.word_index['feeling'])\n",
        "# Input sequences will have multiple indexes\n",
        "print(input_sequences[5])\n",
        "print(input_sequences[6])\n",
        "# And the one hot labels will be as long as the full spread of tokenized words\n",
        "print(one_hot_labels[5])\n",
        "print(one_hot_labels[6])"
      ],
      "execution_count": 6,
      "outputs": [
        {
          "output_type": "stream",
          "text": [
            "31\n",
            "158\n",
            "[  0   0   0   0   0   0   0   0   0   0   0   0   0 111  66  86 206  29\n",
            "   4]\n",
            "[   0    0    0    0    0    0    0    0    0    0    0    0  111   66\n",
            "   86  206   29    4 1196]\n",
            "[0. 0. 0. ... 0. 0. 0.]\n",
            "[0. 0. 0. ... 0. 0. 0.]\n"
          ],
          "name": "stdout"
        }
      ]
    },
    {
      "cell_type": "code",
      "metadata": {
        "id": "qK5HDucSJUHe",
        "outputId": "c80b568d-9921-40d4-bd2d-91b570a3181a",
        "colab": {
          "base_uri": "https://localhost:8080/",
          "height": 1000
        }
      },
      "source": [
        "from tensorflow.keras.models import Sequential\n",
        "from tensorflow.keras.layers import Embedding, LSTM, Dense, Bidirectional\n",
        "\n",
        "model = Sequential()\n",
        "model.add(Embedding(total_words, 64, input_length=max_sequence_len-1))\n",
        "model.add(Bidirectional(LSTM(20)))\n",
        "model.add(Dense(total_words, activation='softmax'))\n",
        "model.compile(loss='categorical_crossentropy', optimizer='adam', metrics=['accuracy'])\n",
        "history = model.fit(input_sequences, one_hot_labels, epochs=100, verbose=1)"
      ],
      "execution_count": 7,
      "outputs": [
        {
          "output_type": "stream",
          "text": [
            "Epoch 1/100\n",
            "1557/1557 [==============================] - 26s 17ms/step - loss: 6.3117 - accuracy: 0.0445\n",
            "Epoch 2/100\n",
            "1557/1557 [==============================] - 25s 16ms/step - loss: 5.9424 - accuracy: 0.0499\n",
            "Epoch 3/100\n",
            "1557/1557 [==============================] - 25s 16ms/step - loss: 5.7184 - accuracy: 0.0653\n",
            "Epoch 4/100\n",
            "1557/1557 [==============================] - 25s 16ms/step - loss: 5.5347 - accuracy: 0.0906\n",
            "Epoch 5/100\n",
            "1557/1557 [==============================] - 25s 16ms/step - loss: 5.3401 - accuracy: 0.1113\n",
            "Epoch 6/100\n",
            "1557/1557 [==============================] - 26s 16ms/step - loss: 5.1438 - accuracy: 0.1286\n",
            "Epoch 7/100\n",
            "1557/1557 [==============================] - 25s 16ms/step - loss: 4.9612 - accuracy: 0.1422\n",
            "Epoch 8/100\n",
            "1557/1557 [==============================] - 25s 16ms/step - loss: 4.7996 - accuracy: 0.1548\n",
            "Epoch 9/100\n",
            "1557/1557 [==============================] - 25s 16ms/step - loss: 4.6536 - accuracy: 0.1702\n",
            "Epoch 10/100\n",
            "1557/1557 [==============================] - 25s 16ms/step - loss: 4.5206 - accuracy: 0.1833\n",
            "Epoch 11/100\n",
            "1557/1557 [==============================] - 25s 16ms/step - loss: 4.4036 - accuracy: 0.1956\n",
            "Epoch 12/100\n",
            "1557/1557 [==============================] - 25s 16ms/step - loss: 4.2900 - accuracy: 0.2092\n",
            "Epoch 13/100\n",
            "1557/1557 [==============================] - 26s 17ms/step - loss: 4.1833 - accuracy: 0.2210\n",
            "Epoch 14/100\n",
            "1557/1557 [==============================] - 25s 16ms/step - loss: 4.0826 - accuracy: 0.2329\n",
            "Epoch 15/100\n",
            "1557/1557 [==============================] - 25s 16ms/step - loss: 3.9934 - accuracy: 0.2433\n",
            "Epoch 16/100\n",
            "1557/1557 [==============================] - 27s 17ms/step - loss: 3.9092 - accuracy: 0.2537\n",
            "Epoch 17/100\n",
            "1557/1557 [==============================] - 26s 17ms/step - loss: 3.8172 - accuracy: 0.2656\n",
            "Epoch 18/100\n",
            "1557/1557 [==============================] - 26s 17ms/step - loss: 3.7439 - accuracy: 0.2736\n",
            "Epoch 19/100\n",
            "1557/1557 [==============================] - 26s 17ms/step - loss: 3.6740 - accuracy: 0.2838\n",
            "Epoch 20/100\n",
            "1557/1557 [==============================] - 26s 17ms/step - loss: 3.6082 - accuracy: 0.2944\n",
            "Epoch 21/100\n",
            "1557/1557 [==============================] - 26s 16ms/step - loss: 3.5444 - accuracy: 0.3031\n",
            "Epoch 22/100\n",
            "1557/1557 [==============================] - 26s 17ms/step - loss: 3.4857 - accuracy: 0.3112\n",
            "Epoch 23/100\n",
            "1557/1557 [==============================] - 26s 17ms/step - loss: 3.4280 - accuracy: 0.3207\n",
            "Epoch 24/100\n",
            "1557/1557 [==============================] - 26s 16ms/step - loss: 3.3773 - accuracy: 0.3246\n",
            "Epoch 25/100\n",
            "1557/1557 [==============================] - 26s 17ms/step - loss: 3.3306 - accuracy: 0.3324\n",
            "Epoch 26/100\n",
            "1557/1557 [==============================] - 26s 16ms/step - loss: 3.2798 - accuracy: 0.3401\n",
            "Epoch 27/100\n",
            "1557/1557 [==============================] - 26s 17ms/step - loss: 3.2357 - accuracy: 0.3456\n",
            "Epoch 28/100\n",
            "1557/1557 [==============================] - 25s 16ms/step - loss: 3.1916 - accuracy: 0.3528\n",
            "Epoch 29/100\n",
            "1557/1557 [==============================] - 26s 16ms/step - loss: 3.1533 - accuracy: 0.3592\n",
            "Epoch 30/100\n",
            "1557/1557 [==============================] - 26s 17ms/step - loss: 3.1098 - accuracy: 0.3665\n",
            "Epoch 31/100\n",
            "1557/1557 [==============================] - 25s 16ms/step - loss: 3.0737 - accuracy: 0.3709\n",
            "Epoch 32/100\n",
            "1557/1557 [==============================] - 26s 17ms/step - loss: 3.0343 - accuracy: 0.3778\n",
            "Epoch 33/100\n",
            "1557/1557 [==============================] - 26s 17ms/step - loss: 3.0064 - accuracy: 0.3803\n",
            "Epoch 34/100\n",
            "1557/1557 [==============================] - 26s 16ms/step - loss: 2.9699 - accuracy: 0.3870\n",
            "Epoch 35/100\n",
            "1557/1557 [==============================] - 26s 17ms/step - loss: 2.9358 - accuracy: 0.3934\n",
            "Epoch 36/100\n",
            "1557/1557 [==============================] - 26s 17ms/step - loss: 2.9064 - accuracy: 0.3983\n",
            "Epoch 37/100\n",
            "1557/1557 [==============================] - 26s 17ms/step - loss: 2.8819 - accuracy: 0.4019\n",
            "Epoch 38/100\n",
            "1557/1557 [==============================] - 26s 17ms/step - loss: 2.8463 - accuracy: 0.4082\n",
            "Epoch 39/100\n",
            "1557/1557 [==============================] - 26s 17ms/step - loss: 2.8179 - accuracy: 0.4130\n",
            "Epoch 40/100\n",
            "1557/1557 [==============================] - 26s 17ms/step - loss: 2.7964 - accuracy: 0.4175\n",
            "Epoch 41/100\n",
            "1557/1557 [==============================] - 26s 17ms/step - loss: 2.7661 - accuracy: 0.4233\n",
            "Epoch 42/100\n",
            "1557/1557 [==============================] - 26s 17ms/step - loss: 2.7442 - accuracy: 0.4252\n",
            "Epoch 43/100\n",
            "1557/1557 [==============================] - 26s 17ms/step - loss: 2.7282 - accuracy: 0.4278\n",
            "Epoch 44/100\n",
            "1557/1557 [==============================] - 26s 17ms/step - loss: 2.6970 - accuracy: 0.4340\n",
            "Epoch 45/100\n",
            "1557/1557 [==============================] - 26s 17ms/step - loss: 2.6727 - accuracy: 0.4376\n",
            "Epoch 46/100\n",
            "1557/1557 [==============================] - 26s 17ms/step - loss: 2.6549 - accuracy: 0.4388\n",
            "Epoch 47/100\n",
            "1557/1557 [==============================] - 26s 17ms/step - loss: 2.6424 - accuracy: 0.4423\n",
            "Epoch 48/100\n",
            "1557/1557 [==============================] - 26s 17ms/step - loss: 2.6254 - accuracy: 0.4451\n",
            "Epoch 49/100\n",
            "1557/1557 [==============================] - 26s 17ms/step - loss: 2.5873 - accuracy: 0.4525\n",
            "Epoch 50/100\n",
            "1557/1557 [==============================] - 26s 17ms/step - loss: 2.5879 - accuracy: 0.4515\n",
            "Epoch 51/100\n",
            "1557/1557 [==============================] - 26s 16ms/step - loss: 2.5689 - accuracy: 0.4554\n",
            "Epoch 52/100\n",
            "1557/1557 [==============================] - 26s 16ms/step - loss: 2.5423 - accuracy: 0.4615\n",
            "Epoch 53/100\n",
            "1557/1557 [==============================] - 26s 17ms/step - loss: 2.5267 - accuracy: 0.4639\n",
            "Epoch 54/100\n",
            "1557/1557 [==============================] - 26s 16ms/step - loss: 2.5137 - accuracy: 0.4655\n",
            "Epoch 55/100\n",
            "1557/1557 [==============================] - 26s 17ms/step - loss: 2.4932 - accuracy: 0.4687\n",
            "Epoch 56/100\n",
            "1557/1557 [==============================] - 26s 17ms/step - loss: 2.4894 - accuracy: 0.4691\n",
            "Epoch 57/100\n",
            "1557/1557 [==============================] - 26s 17ms/step - loss: 2.4647 - accuracy: 0.4757\n",
            "Epoch 58/100\n",
            "1557/1557 [==============================] - 26s 17ms/step - loss: 2.4493 - accuracy: 0.4788\n",
            "Epoch 59/100\n",
            "1557/1557 [==============================] - 26s 16ms/step - loss: 2.4346 - accuracy: 0.4796\n",
            "Epoch 60/100\n",
            "1557/1557 [==============================] - 26s 16ms/step - loss: 2.4209 - accuracy: 0.4832\n",
            "Epoch 61/100\n",
            "1557/1557 [==============================] - 26s 17ms/step - loss: 2.4076 - accuracy: 0.4850\n",
            "Epoch 62/100\n",
            "1557/1557 [==============================] - 26s 17ms/step - loss: 2.3930 - accuracy: 0.4864\n",
            "Epoch 63/100\n",
            "1557/1557 [==============================] - 26s 16ms/step - loss: 2.3782 - accuracy: 0.4912\n",
            "Epoch 64/100\n",
            "1557/1557 [==============================] - 26s 16ms/step - loss: 2.3754 - accuracy: 0.4905\n",
            "Epoch 65/100\n",
            "1557/1557 [==============================] - 26s 17ms/step - loss: 2.3485 - accuracy: 0.4955\n",
            "Epoch 66/100\n",
            "1557/1557 [==============================] - 26s 16ms/step - loss: 2.3436 - accuracy: 0.4963\n",
            "Epoch 67/100\n",
            "1557/1557 [==============================] - 26s 16ms/step - loss: 2.3348 - accuracy: 0.4963\n",
            "Epoch 68/100\n",
            "1557/1557 [==============================] - 26s 16ms/step - loss: 2.3194 - accuracy: 0.5004\n",
            "Epoch 69/100\n",
            "1557/1557 [==============================] - 26s 16ms/step - loss: 2.3042 - accuracy: 0.5042\n",
            "Epoch 70/100\n",
            "1557/1557 [==============================] - 25s 16ms/step - loss: 2.2972 - accuracy: 0.5046\n",
            "Epoch 71/100\n",
            "1557/1557 [==============================] - 26s 16ms/step - loss: 2.2879 - accuracy: 0.5067\n",
            "Epoch 72/100\n",
            "1557/1557 [==============================] - 26s 16ms/step - loss: 2.2785 - accuracy: 0.5073\n",
            "Epoch 73/100\n",
            "1557/1557 [==============================] - 26s 17ms/step - loss: 2.2603 - accuracy: 0.5122\n",
            "Epoch 74/100\n",
            "1557/1557 [==============================] - 26s 17ms/step - loss: 2.2567 - accuracy: 0.5126\n",
            "Epoch 75/100\n",
            "1557/1557 [==============================] - 26s 17ms/step - loss: 2.2554 - accuracy: 0.5120\n",
            "Epoch 76/100\n",
            "1557/1557 [==============================] - 26s 17ms/step - loss: 2.2262 - accuracy: 0.5179\n",
            "Epoch 77/100\n",
            "1557/1557 [==============================] - 26s 17ms/step - loss: 2.2231 - accuracy: 0.5193\n",
            "Epoch 78/100\n",
            "1557/1557 [==============================] - 26s 16ms/step - loss: 2.2085 - accuracy: 0.5222\n",
            "Epoch 79/100\n",
            "1557/1557 [==============================] - 26s 16ms/step - loss: 2.2012 - accuracy: 0.5220\n",
            "Epoch 80/100\n",
            "1557/1557 [==============================] - 26s 16ms/step - loss: 2.1991 - accuracy: 0.5230\n",
            "Epoch 81/100\n",
            "1557/1557 [==============================] - 26s 16ms/step - loss: 2.1822 - accuracy: 0.5266\n",
            "Epoch 82/100\n",
            "1557/1557 [==============================] - 26s 16ms/step - loss: 2.1771 - accuracy: 0.5289\n",
            "Epoch 83/100\n",
            "1557/1557 [==============================] - 26s 16ms/step - loss: 2.1628 - accuracy: 0.5294\n",
            "Epoch 84/100\n",
            "1557/1557 [==============================] - 26s 16ms/step - loss: 2.1629 - accuracy: 0.5281\n",
            "Epoch 85/100\n",
            "1557/1557 [==============================] - 26s 17ms/step - loss: 2.1554 - accuracy: 0.5306\n",
            "Epoch 86/100\n",
            "1557/1557 [==============================] - 26s 17ms/step - loss: 2.1385 - accuracy: 0.5345\n",
            "Epoch 87/100\n",
            "1557/1557 [==============================] - 26s 17ms/step - loss: 2.1401 - accuracy: 0.5329\n",
            "Epoch 88/100\n",
            "1557/1557 [==============================] - 26s 16ms/step - loss: 2.1231 - accuracy: 0.5359\n",
            "Epoch 89/100\n",
            "1557/1557 [==============================] - 26s 17ms/step - loss: 2.1171 - accuracy: 0.5376\n",
            "Epoch 90/100\n",
            "1557/1557 [==============================] - 26s 16ms/step - loss: 2.1129 - accuracy: 0.5382\n",
            "Epoch 91/100\n",
            "1557/1557 [==============================] - 26s 17ms/step - loss: 2.1037 - accuracy: 0.5413\n",
            "Epoch 92/100\n",
            "1557/1557 [==============================] - 26s 17ms/step - loss: 2.0890 - accuracy: 0.5431\n",
            "Epoch 93/100\n",
            "1557/1557 [==============================] - 26s 17ms/step - loss: 2.0829 - accuracy: 0.5447\n",
            "Epoch 94/100\n",
            "1557/1557 [==============================] - 26s 17ms/step - loss: 2.0852 - accuracy: 0.5442\n",
            "Epoch 95/100\n",
            "1557/1557 [==============================] - 26s 17ms/step - loss: 2.0710 - accuracy: 0.5453\n",
            "Epoch 96/100\n",
            "1557/1557 [==============================] - 26s 17ms/step - loss: 2.0665 - accuracy: 0.5477\n",
            "Epoch 97/100\n",
            "1557/1557 [==============================] - 26s 17ms/step - loss: 2.0516 - accuracy: 0.5493\n",
            "Epoch 98/100\n",
            "1557/1557 [==============================] - 26s 17ms/step - loss: 2.0514 - accuracy: 0.5489\n",
            "Epoch 99/100\n",
            "1557/1557 [==============================] - 26s 17ms/step - loss: 2.0388 - accuracy: 0.5524\n",
            "Epoch 100/100\n",
            "1557/1557 [==============================] - 26s 17ms/step - loss: 2.0315 - accuracy: 0.5545\n"
          ],
          "name": "stdout"
        }
      ]
    },
    {
      "cell_type": "code",
      "metadata": {
        "id": "mPd2-afbJXuP",
        "outputId": "ec456b68-4c0f-46b6-aef0-985fe5af2b84",
        "colab": {
          "base_uri": "https://localhost:8080/",
          "height": 279
        }
      },
      "source": [
        "import matplotlib.pyplot as plt\n",
        "\n",
        "def plot_graphs(history, string):\n",
        "  plt.plot(history.history[string])\n",
        "  plt.xlabel(\"Epochs\")\n",
        "  plt.ylabel(string)\n",
        "  plt.show()\n",
        "\n",
        "plot_graphs(history, 'accuracy')"
      ],
      "execution_count": 8,
      "outputs": [
        {
          "output_type": "display_data",
          "data": {
            "image/png": "[encoded data removed]",
            "text/plain": [
              "<Figure size 432x288 with 1 Axes>"
            ]
          },
          "metadata": {
            "tags": [],
            "needs_background": "light"
          }
        }
      ]
    },
    {
      "cell_type": "code",
      "metadata": {
        "id": "XAMLFxSGJgsL",
        "outputId": "3106ce87-09cc-43c2-9489-130e21a74d33",
        "colab": {
          "base_uri": "https://localhost:8080/",
          "height": 54
        }
      },
      "source": [
        "seed_text = \"im feeling chills\"\n",
        "next_words = 100\n",
        "  \n",
        "for _ in range(next_words):\n",
        "\ttoken_list = tokenizer.texts_to_sequences([seed_text])[0]\n",
        "\ttoken_list = pad_sequences([token_list], maxlen=max_sequence_len-1, padding='pre')\n",
        "\tpredicted = np.argmax(model.predict(token_list), axis=-1)\n",
        "\toutput_word = \"\"\n",
        "\tfor word, index in tokenizer.word_index.items():\n",
        "\t\tif index == predicted:\n",
        "\t\t\toutput_word = word\n",
        "\t\t\tbreak\n",
        "\tseed_text += \" \" + output_word\n",
        "print(seed_text)"
      ],
      "execution_count": 9,
      "outputs": [
        {
          "output_type": "stream",
          "text": [
            "im feeling chills the same old girl for me and me and a race is uncle sams mercy trough cost out sail hero night where of piece of violence spun songs pushed size coming tearing familiar be zone on unreal come hurry home get the dream bees change that been ha ha ha ha sounds hit again on my crown town was slow down song again screams deep fuss ticket yeah deep sun life on a little bit instinctively still shove high shame tighter or or have to me to blame what they am the teacher runs dry street cannot shout he voice\n"
          ],
          "name": "stdout"
        }
      ]
    },
    {
      "cell_type": "code",
      "metadata": {
        "id": "Fsja8JimJhK-"
      },
      "source": [
        ""
      ],
      "execution_count": null,
      "outputs": []
    }
  ]
}